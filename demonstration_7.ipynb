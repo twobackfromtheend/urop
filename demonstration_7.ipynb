{
 "cells": [
  {
   "cell_type": "markdown",
   "source": [
    "# `quimb` exploration"
   ],
   "metadata": {
    "collapsed": false,
    "pycharm": {
     "name": "#%% md\n"
    }
   }
  },
  {
   "cell_type": "code",
   "execution_count": 1,
   "metadata": {
    "collapsed": true,
    "pycharm": {
     "is_executing": false
    }
   },
   "outputs": [],
   "source": [
    "import quimb as q\n",
    "import qutip\n"
   ]
  },
  {
   "cell_type": "code",
   "execution_count": 2,
   "outputs": [],
   "source": [
    "import pickle\n",
    "import numpy as np\n",
    "\n",
    "import interaction_constants\n",
    "from qubit_system.geometry.regular_lattice_1d import RegularLattice1D\n",
    "from qubit_system.qubit_system_classes import EvolvingQubitSystem\n",
    "from qubit_system.utils.ghz_states import StandardGHZState\n",
    "from qubit_system.utils.states import get_ground_states, get_exp_list\n",
    "\n",
    "from qubit_system.utils.interpolation import get_hamiltonian_coeff_linear_interpolation, \\\n",
    "    get_hamiltonian_coeff_interpolation"
   ],
   "metadata": {
    "collapsed": false,
    "pycharm": {
     "name": "#%%\n",
     "is_executing": false
    }
   }
  },
  {
   "cell_type": "code",
   "execution_count": 10,
   "outputs": [],
   "source": [
    "N = 4\n",
    "\n",
    "psi_0_qutip = qutip.tensor(get_ground_states(N))\n",
    "psi_0 = q.quimbify(psi_0_qutip, sparse=True)"
   ],
   "metadata": {
    "collapsed": false,
    "pycharm": {
     "name": "#%%\n",
     "is_executing": false
    }
   }
  },
  {
   "cell_type": "code",
   "execution_count": 15,
   "outputs": [],
   "source": [
    "ghz_state_qutip = StandardGHZState(N).get_state_tensor(True)\n",
    "ghz_state = q.quimbify(ghz_state_qutip, sparse=True)"
   ],
   "metadata": {
    "collapsed": false,
    "pycharm": {
     "name": "#%%\n",
     "is_executing": false
    }
   }
  },
  {
   "cell_type": "code",
   "execution_count": 28,
   "outputs": [],
   "source": [
    "exp_list = get_exp_list(N)"
   ],
   "metadata": {
    "collapsed": false,
    "pycharm": {
     "name": "#%%\n",
     "is_executing": false
    }
   }
  },
  {
   "cell_type": "code",
   "execution_count": 29,
   "outputs": [],
   "source": [
    "sx_list, sy_list, sz_list = exp_list"
   ],
   "metadata": {
    "collapsed": false,
    "pycharm": {
     "name": "#%%\n",
     "is_executing": false
    }
   }
  },
  {
   "cell_type": "code",
   "execution_count": 35,
   "outputs": [
    {
     "name": "stdout",
     "text": [
      "[[ True  True  True  True  True  True  True  True  True  True  True  True\n   True  True  True  True]\n [ True  True  True  True  True  True  True  True  True  True  True  True\n   True  True  True  True]\n [ True  True  True  True  True  True  True  True  True  True  True  True\n   True  True  True  True]\n [ True  True  True  True  True  True  True  True  True  True  True  True\n   True  True  True  True]\n [ True  True  True  True  True  True  True  True  True  True  True  True\n   True  True  True  True]\n [ True  True  True  True  True  True  True  True  True  True  True  True\n   True  True  True  True]\n [ True  True  True  True  True  True  True  True  True  True  True  True\n   True  True  True  True]\n [ True  True  True  True  True  True  True  True  True  True  True  True\n   True  True  True  True]\n [ True  True  True  True  True  True  True  True  True  True  True  True\n   True  True  True  True]\n [ True  True  True  True  True  True  True  True  True  True  True  True\n   True  True  True  True]\n [ True  True  True  True  True  True  True  True  True  True  True  True\n   True  True  True  True]\n [ True  True  True  True  True  True  True  True  True  True  True  True\n   True  True  True  True]\n [ True  True  True  True  True  True  True  True  True  True  True  True\n   True  True  True  True]\n [ True  True  True  True  True  True  True  True  True  True  True  True\n   True  True  True  True]\n [ True  True  True  True  True  True  True  True  True  True  True  True\n   True  True  True  True]\n [ True  True  True  True  True  True  True  True  True  True  True  True\n   True  True  True  True]]",
      "\n",
      "[[ True  True  True  True  True  True  True  True  True  True  True  True\n   True  True  True  True]\n [ True  True  True  True  True  True  True  True  True  True  True  True\n   True  True  True  True]\n [ True  True  True  True  True  True  True  True  True  True  True  True\n   True  True  True  True]\n [ True  True  True  True  True  True  True  True  True  True  True  True\n   True  True  True  True]\n [ True  True  True  True  True  True  True  True  True  True  True  True\n   True  True  True  True]\n [ True  True  True  True  True  True  True  True  True  True  True  True\n   True  True  True  True]\n [ True  True  True  True  True  True  True  True  True  True  True  True\n   True  True  True  True]\n [ True  True  True  True  True  True  True  True  True  True  True  True\n   True  True  True  True]\n [ True  True  True  True  True  True  True  True  True  True  True  True\n   True  True  True  True]\n [ True  True  True  True  True  True  True  True  True  True  True  True\n   True  True  True  True]\n [ True  True  True  True  True  True  True  True  True  True  True  True\n   True  True  True  True]\n [ True  True  True  True  True  True  True  True  True  True  True  True\n   True  True  True  True]\n [ True  True  True  True  True  True  True  True  True  True  True  True\n   True  True  True  True]\n [ True  True  True  True  True  True  True  True  True  True  True  True\n   True  True  True  True]\n [ True  True  True  True  True  True  True  True  True  True  True  True\n   True  True  True  True]\n [ True  True  True  True  True  True  True  True  True  True  True  True\n   True  True  True  True]]",
      "\n",
      "[[ True  True  True  True  True  True  True  True  True  True  True  True\n   True  True  True  True]\n [ True  True  True  True  True  True  True  True  True  True  True  True\n   True  True  True  True]\n [ True  True  True  True  True  True  True  True  True  True  True  True\n   True  True  True  True]\n [ True  True  True  True  True  True  True  True  True  True  True  True\n   True  True  True  True]\n [ True  True  True  True  True  True  True  True  True  True  True  True\n   True  True  True  True]\n [ True  True  True  True  True  True  True  True  True  True  True  True\n   True  True  True  True]\n [ True  True  True  True  True  True  True  True  True  True  True  True\n   True  True  True  True]\n [ True  True  True  True  True  True  True  True  True  True  True  True\n   True  True  True  True]\n [ True  True  True  True  True  True  True  True  True  True  True  True\n   True  True  True  True]\n [ True  True  True  True  True  True  True  True  True  True  True  True\n   True  True  True  True]\n [ True  True  True  True  True  True  True  True  True  True  True  True\n   True  True  True  True]\n [ True  True  True  True  True  True  True  True  True  True  True  True\n   True  True  True  True]\n [ True  True  True  True  True  True  True  True  True  True  True  True\n   True  True  True  True]\n [ True  True  True  True  True  True  True  True  True  True  True  True\n   True  True  True  True]\n [ True  True  True  True  True  True  True  True  True  True  True  True\n   True  True  True  True]\n [ True  True  True  True  True  True  True  True  True  True  True  True\n   True  True  True  True]]",
      "\n",
      "[[ True  True  True  True  True  True  True  True  True  True  True  True\n   True  True  True  True]\n [ True  True  True  True  True  True  True  True  True  True  True  True\n   True  True  True  True]\n [ True  True  True  True  True  True  True  True  True  True  True  True\n   True  True  True  True]\n [ True  True  True  True  True  True  True  True  True  True  True  True\n   True  True  True  True]\n [ True  True  True  True  True  True  True  True  True  True  True  True\n   True  True  True  True]\n [ True  True  True  True  True  True  True  True  True  True  True  True\n   True  True  True  True]\n [ True  True  True  True  True  True  True  True  True  True  True  True\n   True  True  True  True]\n [ True  True  True  True  True  True  True  True  True  True  True  True\n   True  True  True  True]\n [ True  True  True  True  True  True  True  True  True  True  True  True\n   True  True  True  True]\n [ True  True  True  True  True  True  True  True  True  True  True  True\n   True  True  True  True]\n [ True  True  True  True  True  True  True  True  True  True  True  True\n   True  True  True  True]\n [ True  True  True  True  True  True  True  True  True  True  True  True\n   True  True  True  True]\n [ True  True  True  True  True  True  True  True  True  True  True  True\n   True  True  True  True]\n [ True  True  True  True  True  True  True  True  True  True  True  True\n   True  True  True  True]\n [ True  True  True  True  True  True  True  True  True  True  True  True\n   True  True  True  True]\n [ True  True  True  True  True  True  True  True  True  True  True  True\n   True  True  True  True]]",
      "\n"
     ],
     "output_type": "stream"
    }
   ],
   "source": [
    "for i in range(N):\n",
    "        print(qutip.tensor(sx_list[i])._data == q.ikron(q.pauli(\"X\"), dims=[2] * N, inds=i))"
   ],
   "metadata": {
    "collapsed": false,
    "pycharm": {
     "name": "#%%\n",
     "is_executing": false
    }
   }
  },
  {
   "cell_type": "code",
   "execution_count": 36,
   "outputs": [
    {
     "name": "stdout",
     "text": [
      "C6: 1.555e-26",
      "\n",
      "Characteristic V: 1.365e+09 Hz",
      "\n"
     ],
     "output_type": "stream"
    }
   ],
   "source": [
    "N_RYD = 50\n",
    "C6 = interaction_constants.get_C6(N_RYD)\n",
    "\n",
    "LATTICE_SPACING = 1.5e-6\n",
    "\n",
    "print(f\"C6: {C6:.3e}\")\n",
    "characteristic_V = C6 / (LATTICE_SPACING ** 6)\n",
    "print(f\"Characteristic V: {characteristic_V:.3e} Hz\")\n"
   ],
   "metadata": {
    "collapsed": false,
    "pycharm": {
     "name": "#%%\n",
     "is_executing": false
    }
   }
  },
  {
   "cell_type": "code",
   "execution_count": 103,
   "outputs": [],
   "source": [
    "geometry = RegularLattice1D(LATTICE_SPACING)\n",
    "\n",
    "def get_hamiltonian():\n",
    "    sx_list, sy_list, sz_list = get_exp_list(N)\n",
    "    time_independent_terms = 0\n",
    "    Omega_coeff_terms = 0\n",
    "    Delta_coeff_terms = 0\n",
    "\n",
    "    for i in range(N):\n",
    "        Omega_coeff_terms += 1 / 2 * sx_list[i]\n",
    "        n_i = (sz_list[i] + qutip.qeye(1)) / 2\n",
    "        Delta_coeff_terms -= n_i\n",
    "\n",
    "        for j in range(i):\n",
    "            n_j = (sz_list[j] + qutip.qeye(1)) / 2\n",
    "            time_independent_terms += C6 / geometry.get_distance(i, j) ** 6 * n_i * n_j\n",
    "    return [\n",
    "        time_independent_terms,\n",
    "        [Omega_coeff_terms, None],\n",
    "        [Delta_coeff_terms, None]\n",
    "    ]\n",
    "\n",
    "hamiltonian_qutip = get_hamiltonian()"
   ],
   "metadata": {
    "collapsed": false,
    "pycharm": {
     "name": "#%%\n",
     "is_executing": false
    }
   }
  },
  {
   "cell_type": "code",
   "execution_count": 109,
   "outputs": [],
   "source": [
    "def get_hamiltonian_quimb():\n",
    "    sx = q.pauli(\"X\")\n",
    "    qnum = (sz + q.identity(2)) / 2\n",
    "    dims = [2] * N\n",
    "\n",
    "    time_independent_terms = 0\n",
    "    Omega_coeff_terms = 0\n",
    "    Delta_coeff_terms = 0\n",
    "\n",
    "    for i in range(N):\n",
    "        Omega_coeff_terms += 1 / 2 * q.ikron(sx, dims=dims, inds=i)\n",
    "        n_i = q.ikron(qnum, dims=dims, inds=i)\n",
    "        Delta_coeff_terms -= n_i\n",
    "\n",
    "        for j in range(i):\n",
    "            n_j = q.ikron(qnum, dims=dims, inds=j)\n",
    "\n",
    "            time_independent_terms += C6 / geometry.get_distance(i, j) ** 6 * n_i * n_j\n",
    "    return [\n",
    "        time_independent_terms,\n",
    "        [Omega_coeff_terms, None],\n",
    "        [Delta_coeff_terms, None]\n",
    "    ]\n",
    "\n",
    "\n",
    "hamiltonian_quimb = get_hamiltonian_quimb()"
   ],
   "metadata": {
    "collapsed": false,
    "pycharm": {
     "name": "#%%\n",
     "is_executing": false
    }
   }
  },
  {
   "cell_type": "code",
   "execution_count": 40,
   "outputs": [
    {
     "data": {
      "text/plain": "Quantum object: dims = [[2], [2]], shape = (2, 2), type = oper, isherm = True\nQobj data =\n[[1. 0.]\n [0. 0.]]",
      "text/latex": "Quantum object: dims = [[2], [2]], shape = (2, 2), type = oper, isherm = True\\begin{equation*}\\left(\\begin{array}{*{11}c}1.0 & 0.0\\\\0.0 & 0.0\\\\\\end{array}\\right)\\end{equation*}"
     },
     "metadata": {},
     "output_type": "execute_result",
     "execution_count": 40
    }
   ],
   "source": [
    "(qutip.sigmaz() + qutip.qeye(1)) / 2\n"
   ],
   "metadata": {
    "collapsed": false,
    "pycharm": {
     "name": "#%%\n",
     "is_executing": false
    }
   }
  },
  {
   "cell_type": "code",
   "execution_count": 52,
   "outputs": [
    {
     "data": {
      "text/plain": "Quantum object: dims = [[2, 2, 2, 2], [2, 2, 2, 2]], shape = (16, 16), type = oper, isherm = True\nQobj data =\n[[1. 0. 0. 0. 0. 0. 0. 0. 0. 0. 0. 0. 0. 0. 0. 0.]\n [0. 0. 0. 0. 0. 0. 0. 0. 0. 0. 0. 0. 0. 0. 0. 0.]\n [0. 0. 1. 0. 0. 0. 0. 0. 0. 0. 0. 0. 0. 0. 0. 0.]\n [0. 0. 0. 0. 0. 0. 0. 0. 0. 0. 0. 0. 0. 0. 0. 0.]\n [0. 0. 0. 0. 1. 0. 0. 0. 0. 0. 0. 0. 0. 0. 0. 0.]\n [0. 0. 0. 0. 0. 0. 0. 0. 0. 0. 0. 0. 0. 0. 0. 0.]\n [0. 0. 0. 0. 0. 0. 1. 0. 0. 0. 0. 0. 0. 0. 0. 0.]\n [0. 0. 0. 0. 0. 0. 0. 0. 0. 0. 0. 0. 0. 0. 0. 0.]\n [0. 0. 0. 0. 0. 0. 0. 0. 1. 0. 0. 0. 0. 0. 0. 0.]\n [0. 0. 0. 0. 0. 0. 0. 0. 0. 0. 0. 0. 0. 0. 0. 0.]\n [0. 0. 0. 0. 0. 0. 0. 0. 0. 0. 1. 0. 0. 0. 0. 0.]\n [0. 0. 0. 0. 0. 0. 0. 0. 0. 0. 0. 0. 0. 0. 0. 0.]\n [0. 0. 0. 0. 0. 0. 0. 0. 0. 0. 0. 0. 1. 0. 0. 0.]\n [0. 0. 0. 0. 0. 0. 0. 0. 0. 0. 0. 0. 0. 0. 0. 0.]\n [0. 0. 0. 0. 0. 0. 0. 0. 0. 0. 0. 0. 0. 0. 1. 0.]\n [0. 0. 0. 0. 0. 0. 0. 0. 0. 0. 0. 0. 0. 0. 0. 0.]]",
      "text/latex": "Quantum object: dims = [[2, 2, 2, 2], [2, 2, 2, 2]], shape = (16, 16), type = oper, isherm = True\\begin{equation*}\\left(\\begin{array}{*{11}c}1.0 & 0.0 & 0.0 & 0.0 & 0.0 & \\cdots & 0.0 & 0.0 & 0.0 & 0.0 & 0.0\\\\0.0 & 0.0 & 0.0 & 0.0 & 0.0 & \\cdots & 0.0 & 0.0 & 0.0 & 0.0 & 0.0\\\\0.0 & 0.0 & 1.0 & 0.0 & 0.0 & \\cdots & 0.0 & 0.0 & 0.0 & 0.0 & 0.0\\\\0.0 & 0.0 & 0.0 & 0.0 & 0.0 & \\cdots & 0.0 & 0.0 & 0.0 & 0.0 & 0.0\\\\0.0 & 0.0 & 0.0 & 0.0 & 1.0 & \\cdots & 0.0 & 0.0 & 0.0 & 0.0 & 0.0\\\\\\vdots & \\vdots & \\vdots & \\vdots & \\vdots & \\ddots & \\vdots & \\vdots & \\vdots & \\vdots & \\vdots\\\\0.0 & 0.0 & 0.0 & 0.0 & 0.0 & \\cdots & 0.0 & 0.0 & 0.0 & 0.0 & 0.0\\\\0.0 & 0.0 & 0.0 & 0.0 & 0.0 & \\cdots & 0.0 & 1.0 & 0.0 & 0.0 & 0.0\\\\0.0 & 0.0 & 0.0 & 0.0 & 0.0 & \\cdots & 0.0 & 0.0 & 0.0 & 0.0 & 0.0\\\\0.0 & 0.0 & 0.0 & 0.0 & 0.0 & \\cdots & 0.0 & 0.0 & 0.0 & 1.0 & 0.0\\\\0.0 & 0.0 & 0.0 & 0.0 & 0.0 & \\cdots & 0.0 & 0.0 & 0.0 & 0.0 & 0.0\\\\\\end{array}\\right)\\end{equation*}"
     },
     "metadata": {},
     "output_type": "execute_result",
     "execution_count": 52
    }
   ],
   "source": [
    "(sz_list[0] + qutip.qeye(1)) / 2"
   ],
   "metadata": {
    "collapsed": false,
    "pycharm": {
     "name": "#%%\n",
     "is_executing": false
    }
   }
  },
  {
   "cell_type": "code",
   "execution_count": 50,
   "outputs": [],
   "source": [
    "qutip.ket('e')\n",
    "g = qutip.ket('e')\n",
    "e = qutip.ket('g')\n",
    "\n",
    "qg = q.qu(g)\n",
    "qe = q.qu(e)"
   ],
   "metadata": {
    "collapsed": false,
    "pycharm": {
     "name": "#%%\n",
     "is_executing": false
    }
   }
  },
  {
   "cell_type": "code",
   "execution_count": 65,
   "outputs": [
    {
     "data": {
      "text/plain": "0j"
     },
     "metadata": {},
     "output_type": "execute_result",
     "execution_count": 65
    }
   ],
   "source": [
    "q.expec(q.num(2), q.qu(qutip.ket('g')))"
   ],
   "metadata": {
    "collapsed": false,
    "pycharm": {
     "name": "#%%\n",
     "is_executing": false
    }
   }
  },
  {
   "cell_type": "code",
   "execution_count": 66,
   "outputs": [
    {
     "data": {
      "text/plain": "[[0.+0.j 0.+0.j]\n [0.+0.j 1.+0.j]]"
     },
     "metadata": {},
     "output_type": "execute_result",
     "execution_count": 66
    }
   ],
   "source": [
    "q.num(2)"
   ],
   "metadata": {
    "collapsed": false,
    "pycharm": {
     "name": "#%%\n",
     "is_executing": false
    }
   }
  },
  {
   "cell_type": "code",
   "execution_count": 68,
   "outputs": [
    {
     "data": {
      "text/plain": "[[0.+0.j 0.+0.j]\n [0.+0.j 1.+0.j]]"
     },
     "metadata": {},
     "output_type": "execute_result",
     "execution_count": 68
    }
   ],
   "source": [
    "q.num(2).T"
   ],
   "metadata": {
    "collapsed": false,
    "pycharm": {
     "name": "#%%\n",
     "is_executing": false
    }
   }
  },
  {
   "cell_type": "code",
   "execution_count": 75,
   "outputs": [
    {
     "data": {
      "text/plain": "[[0.+0.j]\n [1.+0.j]]"
     },
     "metadata": {},
     "output_type": "execute_result",
     "execution_count": 75
    }
   ],
   "source": [
    "q.create(2) @ qe"
   ],
   "metadata": {
    "collapsed": false,
    "pycharm": {
     "name": "#%%\n",
     "is_executing": false
    }
   }
  },
  {
   "cell_type": "code",
   "execution_count": 76,
   "outputs": [
    {
     "data": {
      "text/plain": "[[1.+0.j]\n [0.+0.j]]"
     },
     "metadata": {},
     "output_type": "execute_result",
     "execution_count": 76
    }
   ],
   "source": [
    "qe"
   ],
   "metadata": {
    "collapsed": false,
    "pycharm": {
     "name": "#%%\n",
     "is_executing": false
    }
   }
  },
  {
   "cell_type": "code",
   "execution_count": 85,
   "outputs": [
    {
     "name": "stdout",
     "text": [
      "[[1.+0.j 0.+0.j]\n [0.+0.j 0.+0.j]]",
      "\n"
     ],
     "output_type": "stream"
    }
   ],
   "source": [
    "sz = q.pauli(\"Z\")\n",
    "qnum = (sz + q.identity(2)) / 2\n",
    "print(qnum)"
   ],
   "metadata": {
    "collapsed": false,
    "pycharm": {
     "name": "#%%\n",
     "is_executing": false
    }
   }
  },
  {
   "cell_type": "code",
   "execution_count": 108,
   "outputs": [
    {
     "data": {
      "text/plain": "[[0.5+0.j 0. +0.j 0. +0.j 0. +0.j 0. +0.j 0. +0.j 0. +0.j 0. +0.j 0. +0.j 0. +0.j 0. +0.j 0. +0.j 0. +0.j 0. +0.j\n  0. +0.j 0. +0.j]\n [0. +0.j 0.5+0.j 0. +0.j 0. +0.j 0. +0.j 0. +0.j 0. +0.j 0. +0.j 0. +0.j 0. +0.j 0. +0.j 0. +0.j 0. +0.j 0. +0.j\n  0. +0.j 0. +0.j]\n [0. +0.j 0. +0.j 0.5+0.j 0. +0.j 0. +0.j 0. +0.j 0. +0.j 0. +0.j 0. +0.j 0. +0.j 0. +0.j 0. +0.j 0. +0.j 0. +0.j\n  0. +0.j 0. +0.j]\n [0. +0.j 0. +0.j 0. +0.j 0.5+0.j 0. +0.j 0. +0.j 0. +0.j 0. +0.j 0. +0.j 0. +0.j 0. +0.j 0. +0.j 0. +0.j 0. +0.j\n  0. +0.j 0. +0.j]\n [0. +0.j 0. +0.j 0. +0.j 0. +0.j 0.5+0.j 0. +0.j 0. +0.j 0. +0.j 0. +0.j 0. +0.j 0. +0.j 0. +0.j 0. +0.j 0. +0.j\n  0. +0.j 0. +0.j]\n [0. +0.j 0. +0.j 0. +0.j 0. +0.j 0. +0.j 0.5+0.j 0. +0.j 0. +0.j 0. +0.j 0. +0.j 0. +0.j 0. +0.j 0. +0.j 0. +0.j\n  0. +0.j 0. +0.j]\n [0. +0.j 0. +0.j 0. +0.j 0. +0.j 0. +0.j 0. +0.j 0.5+0.j 0. +0.j 0. +0.j 0. +0.j 0. +0.j 0. +0.j 0. +0.j 0. +0.j\n  0. +0.j 0. +0.j]\n [0. +0.j 0. +0.j 0. +0.j 0. +0.j 0. +0.j 0. +0.j 0. +0.j 0.5+0.j 0. +0.j 0. +0.j 0. +0.j 0. +0.j 0. +0.j 0. +0.j\n  0. +0.j 0. +0.j]\n [0. +0.j 0. +0.j 0. +0.j 0. +0.j 0. +0.j 0. +0.j 0. +0.j 0. +0.j 0. +0.j 0. +0.j 0. +0.j 0. +0.j 0. +0.j 0. +0.j\n  0. +0.j 0. +0.j]\n [0. +0.j 0. +0.j 0. +0.j 0. +0.j 0. +0.j 0. +0.j 0. +0.j 0. +0.j 0. +0.j 0. +0.j 0. +0.j 0. +0.j 0. +0.j 0. +0.j\n  0. +0.j 0. +0.j]\n [0. +0.j 0. +0.j 0. +0.j 0. +0.j 0. +0.j 0. +0.j 0. +0.j 0. +0.j 0. +0.j 0. +0.j 0. +0.j 0. +0.j 0. +0.j 0. +0.j\n  0. +0.j 0. +0.j]\n [0. +0.j 0. +0.j 0. +0.j 0. +0.j 0. +0.j 0. +0.j 0. +0.j 0. +0.j 0. +0.j 0. +0.j 0. +0.j 0. +0.j 0. +0.j 0. +0.j\n  0. +0.j 0. +0.j]\n [0. +0.j 0. +0.j 0. +0.j 0. +0.j 0. +0.j 0. +0.j 0. +0.j 0. +0.j 0. +0.j 0. +0.j 0. +0.j 0. +0.j 0. +0.j 0. +0.j\n  0. +0.j 0. +0.j]\n [0. +0.j 0. +0.j 0. +0.j 0. +0.j 0. +0.j 0. +0.j 0. +0.j 0. +0.j 0. +0.j 0. +0.j 0. +0.j 0. +0.j 0. +0.j 0. +0.j\n  0. +0.j 0. +0.j]\n [0. +0.j 0. +0.j 0. +0.j 0. +0.j 0. +0.j 0. +0.j 0. +0.j 0. +0.j 0. +0.j 0. +0.j 0. +0.j 0. +0.j 0. +0.j 0. +0.j\n  0. +0.j 0. +0.j]\n [0. +0.j 0. +0.j 0. +0.j 0. +0.j 0. +0.j 0. +0.j 0. +0.j 0. +0.j 0. +0.j 0. +0.j 0. +0.j 0. +0.j 0. +0.j 0. +0.j\n  0. +0.j 0. +0.j]]"
     },
     "metadata": {},
     "output_type": "execute_result",
     "execution_count": 108
    }
   ],
   "source": [
    "dims = [2] * N\n",
    "\n",
    "q.ikron(qnum, dims=dims, inds=0) / 2"
   ],
   "metadata": {
    "collapsed": false,
    "pycharm": {
     "name": "#%%\n",
     "is_executing": false
    }
   }
  },
  {
   "cell_type": "code",
   "execution_count": 117,
   "outputs": [
    {
     "data": {
      "text/plain": "True"
     },
     "metadata": {},
     "output_type": "execute_result",
     "execution_count": 117
    }
   ],
   "source": [
    "np.all(hamiltonian_qutip[0].data == hamiltonian_quimb[0]) and \\\n",
    "np.all(hamiltonian_qutip[1][0].data == hamiltonian_quimb[1][0]) and \\\n",
    "np.all(hamiltonian_qutip[2][0].data == hamiltonian_quimb[2][0])\n",
    "\n"
   ],
   "metadata": {
    "collapsed": false,
    "pycharm": {
     "name": "#%%\n",
     "is_executing": false
    }
   }
  },
  {
   "cell_type": "code",
   "execution_count": 117,
   "outputs": [],
   "source": [],
   "metadata": {
    "collapsed": false,
    "pycharm": {
     "name": "#%%\n",
     "is_executing": false
    }
   }
  },
  {
   "cell_type": "code",
   "execution_count": 121,
   "outputs": [
    {
     "data": {
      "text/plain": "[[0.+0.j]\n [1.+0.j]]"
     },
     "metadata": {},
     "output_type": "execute_result",
     "execution_count": 121
    }
   ],
   "source": [
    "qg"
   ],
   "metadata": {
    "collapsed": false,
    "pycharm": {
     "name": "#%%\n",
     "is_executing": false
    }
   }
  },
  {
   "cell_type": "code",
   "execution_count": 130,
   "outputs": [
    {
     "data": {
      "text/plain": "(1.0, [[0.707107+0.j]\n  [0.707107+0.j]])"
     },
     "metadata": {},
     "output_type": "execute_result",
     "execution_count": 130
    }
   ],
   "source": [
    "sx = q.pauli(\"X\")\n",
    "q.measure(qg, sx)\n"
   ],
   "metadata": {
    "collapsed": false,
    "pycharm": {
     "name": "#%%\n",
     "is_executing": false
    }
   }
  },
  {
   "cell_type": "code",
   "execution_count": 5,
   "outputs": [],
   "source": [
    "# import qubit_system.qubit_system_classes_qiumb as qscq\n",
    "from qubit_system.qubit_system_classes_quimb import TimeIndependentEvolvingQubitSystem as TIEQS\n",
    "t = 1\n",
    "N = 4\n",
    "e_qs = TIEQS(\n",
    "        N=N, V=1, geometry=RegularLattice1D(),\n",
    "        Omega=1, Delta=1,\n",
    "        ghz_state=StandardGHZState(N)\n",
    ")"
   ],
   "metadata": {
    "collapsed": false,
    "pycharm": {
     "name": "#%%\n",
     "is_executing": false
    }
   }
  },
  {
   "cell_type": "code",
   "execution_count": 53,
   "outputs": [],
   "source": [
    "evo = q.Evolution(e_qs.psi_0, e_qs.get_hamiltonian())"
   ],
   "metadata": {
    "collapsed": false,
    "pycharm": {
     "name": "#%%\n",
     "is_executing": false
    }
   }
  },
  {
   "cell_type": "code",
   "execution_count": 30,
   "outputs": [
    {
     "name": "stdout",
     "text": [
      "[[ 4.703167e-06+3.692010e-07j]\n [-8.233488e-06+1.089607e-04j]\n [-1.124813e-05+1.087117e-04j]\n [-2.276932e-03-1.453854e-04j]\n [-1.124813e-05+1.087117e-04j]\n [-2.270409e-03-2.168209e-04j]\n [-2.270458e-03-2.178574e-04j]\n [ 2.274377e-03-4.758548e-02j]\n [-8.233488e-06+1.089607e-04j]\n [-2.276822e-03-1.453983e-04j]\n [-2.270409e-03-2.168209e-04j]\n [ 2.275133e-03-4.758543e-02j]\n [-2.276932e-03-1.453854e-04j]\n [ 2.275133e-03-4.758543e-02j]\n [ 2.274377e-03-4.758548e-02j]\n [ 9.954346e-01-1.454966e-04j]]",
      "\n"
     ],
     "output_type": "stream"
    }
   ],
   "source": [
    "for i in evo.at_times([ 1]):\n",
    "    print(i)"
   ],
   "metadata": {
    "collapsed": false,
    "pycharm": {
     "name": "#%%\n",
     "is_executing": false
    }
   }
  },
  {
   "cell_type": "code",
   "execution_count": 17,
   "outputs": [
    {
     "data": {
      "text/plain": "[[False]\n [False]\n [False]\n [False]\n [False]\n [False]\n [False]\n [False]\n [False]\n [False]\n [False]\n [False]\n [False]\n [False]\n [False]\n [False]]"
     },
     "metadata": {},
     "output_type": "execute_result",
     "execution_count": 17
    }
   ],
   "source": [
    "evo.pt == evo._p0"
   ],
   "metadata": {
    "collapsed": false,
    "pycharm": {
     "name": "#%%\n",
     "is_executing": false
    }
   }
  },
  {
   "cell_type": "code",
   "execution_count": 40,
   "outputs": [
    {
     "data": {
      "text/plain": "[[ 4.703167e-06+3.692010e-07j]\n [-8.233488e-06+1.089607e-04j]\n [-1.124813e-05+1.087117e-04j]\n [-2.276932e-03-1.453854e-04j]\n [-1.124813e-05+1.087117e-04j]\n [-2.270409e-03-2.168209e-04j]\n [-2.270458e-03-2.178574e-04j]\n [ 2.274377e-03-4.758548e-02j]\n [-8.233488e-06+1.089607e-04j]\n [-2.276822e-03-1.453983e-04j]\n [-2.270409e-03-2.168209e-04j]\n [ 2.275133e-03-4.758543e-02j]\n [-2.276932e-03-1.453854e-04j]\n [ 2.275133e-03-4.758543e-02j]\n [ 2.274377e-03-4.758548e-02j]\n [ 9.954346e-01-1.454966e-04j]]"
     },
     "metadata": {},
     "output_type": "execute_result",
     "execution_count": 40
    }
   ],
   "source": [
    "evo.pt\n"
   ],
   "metadata": {
    "collapsed": false,
    "pycharm": {
     "name": "#%%\n",
     "is_executing": false
    }
   }
  },
  {
   "cell_type": "code",
   "execution_count": 39,
   "outputs": [
    {
     "data": {
      "text/plain": "0.09568039050677621"
     },
     "metadata": {},
     "output_type": "execute_result",
     "execution_count": 39
    }
   ],
   "source": [
    "evo.t\n"
   ],
   "metadata": {
    "collapsed": false,
    "pycharm": {
     "name": "#%%\n",
     "is_executing": false
    }
   }
  },
  {
   "cell_type": "code",
   "execution_count": 37,
   "outputs": [],
   "source": [
    "evo.update_to(1)"
   ],
   "metadata": {
    "collapsed": false,
    "pycharm": {
     "name": "#%%\n",
     "is_executing": false
    }
   }
  },
  {
   "cell_type": "code",
   "execution_count": 43,
   "outputs": [
    {
     "data": {
      "text/plain": "matrix([[ True],\n        [ True]])"
     },
     "metadata": {},
     "output_type": "execute_result",
     "execution_count": 43
    }
   ],
   "source": [
    "qutip.basis(2, 1).data == q.ket([0, 1])"
   ],
   "metadata": {
    "collapsed": false,
    "pycharm": {
     "name": "#%%\n",
     "is_executing": false
    }
   }
  },
  {
   "cell_type": "code",
   "execution_count": 48,
   "outputs": [
    {
     "data": {
      "text/plain": "3"
     },
     "metadata": {},
     "output_type": "execute_result",
     "execution_count": 48
    }
   ],
   "source": [
    "q.kron(q.ket([0, 1]), q.ket([0, 1], sparse=True)).argmax()"
   ],
   "metadata": {
    "collapsed": false,
    "pycharm": {
     "name": "#%%\n",
     "is_executing": false
    }
   }
  },
  {
   "cell_type": "code",
   "execution_count": 52,
   "outputs": [
    {
     "traceback": [
      "\u001b[1;31m---------------------------------------------------------------------------\u001b[0m",
      "\u001b[1;31mAttributeError\u001b[0m                            Traceback (most recent call last)",
      "\u001b[1;32m<ipython-input-52-acd8481533d8>\u001b[0m in \u001b[0;36m<module>\u001b[1;34m\u001b[0m\n\u001b[1;32m----> 1\u001b[1;33m \u001b[0mq\u001b[0m\u001b[1;33m.\u001b[0m\u001b[0mmake_immutable\u001b[0m\u001b[1;33m(\u001b[0m\u001b[0mqe\u001b[0m\u001b[1;33m)\u001b[0m\u001b[1;33m\u001b[0m\u001b[1;33m\u001b[0m\u001b[0m\n\u001b[0m",
      "\u001b[1;31mAttributeError\u001b[0m: module 'quimb' has no attribute 'make_immutable'"
     ],
     "ename": "AttributeError",
     "evalue": "module 'quimb' has no attribute 'make_immutable'",
     "output_type": "error"
    }
   ],
   "source": [
    "make_immutable(qe)"
   ],
   "metadata": {
    "collapsed": false,
    "pycharm": {
     "name": "#%%\n",
     "is_executing": false
    }
   }
  },
  {
   "cell_type": "code",
   "execution_count": 54,
   "outputs": [
    {
     "name": "stdout",
     "text": [
      "[[0.+0.j]\n [0.+0.j]\n [0.+0.j]\n [0.+0.j]\n [0.+0.j]\n [0.+0.j]\n [0.+0.j]\n [0.+0.j]\n [0.+0.j]\n [0.+0.j]\n [0.+0.j]\n [0.+0.j]\n [0.+0.j]\n [0.+0.j]\n [0.+0.j]\n [1.+0.j]]",
      "\n",
      "[[ 0.028205+0.041926j]\n [-0.067001+0.065267j]\n [-0.082401+0.0359j  ]\n [-0.144517-0.098328j]\n [-0.082401+0.0359j  ]\n [-0.091309-0.133586j]\n [-0.094568-0.132406j]\n [ 0.12022 -0.29567j ]\n [-0.067001+0.065267j]\n [-0.140676-0.100495j]\n [-0.091309-0.133586j]\n [ 0.124697-0.288969j]\n [-0.144517-0.098328j]\n [ 0.124697-0.288969j]\n [ 0.12022 -0.29567j ]\n [ 0.616243-0.111121j]]",
      "\n"
     ],
     "output_type": "stream"
    }
   ],
   "source": [
    "for i in evo.at_times([0, 1]):\n",
    "    print(i)\n",
    "    \n",
    "    "
   ],
   "metadata": {
    "collapsed": false,
    "pycharm": {
     "name": "#%%\n",
     "is_executing": false
    }
   }
  },
  {
   "cell_type": "code",
   "execution_count": 66,
   "outputs": [
    {
     "name": "stdout",
     "text": [
      "[1, 2, 3, 2, 3, 4]",
      "\n"
     ],
     "output_type": "stream"
    }
   ],
   "source": [
    "x = [1,2,3]\n",
    "x += np.array([2,3, 4]).tolist()\n",
    "print(x)\n"
   ],
   "metadata": {
    "collapsed": false,
    "pycharm": {
     "name": "#%%\n",
     "is_executing": false
    }
   }
  },
  {
   "cell_type": "code",
   "execution_count": 68,
   "outputs": [
    {
     "traceback": [
      "\u001b[1;31m---------------------------------------------------------------------------\u001b[0m",
      "\u001b[1;31mTypeError\u001b[0m                                 Traceback (most recent call last)",
      "\u001b[1;32m<ipython-input-68-d93f36a409b2>\u001b[0m in \u001b[0;36m<module>\u001b[1;34m\u001b[0m\n\u001b[1;32m----> 1\u001b[1;33m \u001b[0mq\u001b[0m\u001b[1;33m.\u001b[0m\u001b[0mentropy_subsys\u001b[0m\u001b[1;33m(\u001b[0m\u001b[0mqe\u001b[0m\u001b[1;33m)\u001b[0m\u001b[1;33m\u001b[0m\u001b[1;33m\u001b[0m\u001b[0m\n\u001b[0m",
      "\u001b[1;31mTypeError\u001b[0m: bipartite_spectral_fn() missing 2 required positional arguments: 'dims' and 'sysa'"
     ],
     "ename": "TypeError",
     "evalue": "bipartite_spectral_fn() missing 2 required positional arguments: 'dims' and 'sysa'",
     "output_type": "error"
    }
   ],
   "source": [
    "q.entropy_subsys(qe, )\n"
   ],
   "metadata": {
    "collapsed": false,
    "pycharm": {
     "name": "#%%\n",
     "is_executing": false
    }
   }
  },
  {
   "cell_type": "code",
   "execution_count": 224,
   "outputs": [
    {
     "name": "stdout",
     "text": [
      "[[0.+0.j]\n [0.+0.j]\n [0.+0.j]\n [0.+0.j]\n [0.+0.j]\n [0.+0.j]\n [0.+0.j]\n [1.+0.j]]",
      "\n",
      "[[1.+0.j]\n [0.+0.j]\n [0.+0.j]\n [0.+0.j]\n [0.+0.j]\n [0.+0.j]\n [0.+0.j]\n [0.+0.j]]",
      "\n",
      "[[0.707107+0.j]\n [0.      +0.j]\n [0.      +0.j]\n [0.      +0.j]\n [0.      +0.j]\n [0.      +0.j]\n [0.      +0.j]\n [0.707107+0.j]]",
      "\n",
      "[[0.353553+0.j]\n [0.353553+0.j]\n [0.353553+0.j]\n [0.353553+0.j]\n [0.353553+0.j]\n [0.353553+0.j]\n [0.353553+0.j]\n [0.353553+0.j]]",
      "\n"
     ],
     "output_type": "stream"
    }
   ],
   "source": [
    "qe_ = q.ket([1, 0])\n",
    "qg_ = q.ket([0, 1])\n",
    "qeee = q.kron(qe_, qe_, qe_)\n",
    "qggg = q.kron(qg_, qg_, qg_)\n",
    "q_ghz = q.normalize(qeee + qggg)\n",
    "q_all = q.normalize(\n",
    "    q.kron(qg_, qg_, qg_) +\n",
    "    q.kron(qe_, qg_, qg_) +\n",
    "    q.kron(qg_, qe_, qg_) +\n",
    "    q.kron(qg_, qg_, qe_) +\n",
    "    q.kron(qe_, qe_, qg_) +\n",
    "    q.kron(qe_, qg_, qe_) +\n",
    "    q.kron(qg_, qe_, qe_) +\n",
    "    q.kron(qe_, qe_, qe_)    \n",
    ")\n",
    "print(qggg)\n",
    "print(qeee)\n",
    "print(q_ghz)\n",
    "print(q_all)"
   ],
   "metadata": {
    "collapsed": false,
    "pycharm": {
     "name": "#%%\n",
     "is_executing": false
    }
   }
  },
  {
   "cell_type": "code",
   "execution_count": 81,
   "outputs": [
    {
     "data": {
      "text/plain": "0.0"
     },
     "metadata": {},
     "output_type": "execute_result",
     "execution_count": 81
    }
   ],
   "source": [
    "q.entropy_subsys(qeee, [2] * 3 , [0])"
   ],
   "metadata": {
    "collapsed": false,
    "pycharm": {
     "name": "#%%\n",
     "is_executing": false
    }
   }
  },
  {
   "cell_type": "code",
   "execution_count": 238,
   "outputs": [
    {
     "data": {
      "text/plain": "1.0"
     },
     "metadata": {},
     "output_type": "execute_result",
     "execution_count": 238
    }
   ],
   "source": [
    "q.entropy_subsys(q_ghz, [2] * 3, [2])"
   ],
   "metadata": {
    "collapsed": false,
    "pycharm": {
     "name": "#%%\n",
     "is_executing": false
    }
   }
  },
  {
   "cell_type": "code",
   "execution_count": 190,
   "outputs": [
    {
     "data": {
      "text/plain": "0.5500477595827573"
     },
     "metadata": {},
     "output_type": "execute_result",
     "execution_count": 190
    }
   ],
   "source": [
    "q.entropy_subsys(q_all, [2] * 3, [2])"
   ],
   "metadata": {
    "collapsed": false,
    "pycharm": {
     "name": "#%%\n",
     "is_executing": false
    }
   }
  },
  {
   "cell_type": "code",
   "execution_count": 198,
   "outputs": [
    {
     "data": {
      "text/plain": "[[1.+0.j 0.+0.j 0.+0.j 0.+0.j 0.+0.j 0.+0.j 0.+0.j 0.+0.j]\n [0.+0.j 0.+0.j 0.+0.j 0.+0.j 0.+0.j 0.+0.j 0.+0.j 0.+0.j]\n [0.+0.j 0.+0.j 0.+0.j 0.+0.j 0.+0.j 0.+0.j 0.+0.j 0.+0.j]\n [0.+0.j 0.+0.j 0.+0.j 0.+0.j 0.+0.j 0.+0.j 0.+0.j 0.+0.j]\n [0.+0.j 0.+0.j 0.+0.j 0.+0.j 0.+0.j 0.+0.j 0.+0.j 0.+0.j]\n [0.+0.j 0.+0.j 0.+0.j 0.+0.j 0.+0.j 0.+0.j 0.+0.j 0.+0.j]\n [0.+0.j 0.+0.j 0.+0.j 0.+0.j 0.+0.j 0.+0.j 0.+0.j 0.+0.j]\n [0.+0.j 0.+0.j 0.+0.j 0.+0.j 0.+0.j 0.+0.j 0.+0.j 0.+0.j]]"
     },
     "metadata": {},
     "output_type": "execute_result",
     "execution_count": 198
    }
   ],
   "source": [
    "qeee @ qeee.H"
   ],
   "metadata": {
    "collapsed": false,
    "pycharm": {
     "name": "#%%\n",
     "is_executing": false
    }
   }
  },
  {
   "cell_type": "code",
   "execution_count": 199,
   "outputs": [
    {
     "data": {
      "text/plain": "[[0.+0.j 0.+0.j 0.+0.j 0.+0.j 0.+0.j 0.+0.j 0.+0.j 0.+0.j]\n [0.+0.j 0.+0.j 0.+0.j 0.+0.j 0.+0.j 0.+0.j 0.+0.j 0.+0.j]\n [0.+0.j 0.+0.j 0.+0.j 0.+0.j 0.+0.j 0.+0.j 0.+0.j 0.+0.j]\n [0.+0.j 0.+0.j 0.+0.j 0.+0.j 0.+0.j 0.+0.j 0.+0.j 0.+0.j]\n [0.+0.j 0.+0.j 0.+0.j 0.+0.j 0.+0.j 0.+0.j 0.+0.j 0.+0.j]\n [0.+0.j 0.+0.j 0.+0.j 0.+0.j 0.+0.j 0.+0.j 0.+0.j 0.+0.j]\n [0.+0.j 0.+0.j 0.+0.j 0.+0.j 0.+0.j 0.+0.j 0.+0.j 0.+0.j]\n [0.+0.j 0.+0.j 0.+0.j 0.+0.j 0.+0.j 0.+0.j 0.+0.j 1.+0.j]]"
     },
     "metadata": {},
     "output_type": "execute_result",
     "execution_count": 199
    }
   ],
   "source": [
    "qggg @ qggg.H"
   ],
   "metadata": {
    "collapsed": false,
    "pycharm": {
     "name": "#%%\n",
     "is_executing": false
    }
   }
  },
  {
   "cell_type": "code",
   "execution_count": 201,
   "outputs": [
    {
     "data": {
      "text/plain": "[[0.5+0.j 0. +0.j 0. +0.j 0. +0.j 0. +0.j 0. +0.j 0. +0.j 0.5+0.j]\n [0. +0.j 0. +0.j 0. +0.j 0. +0.j 0. +0.j 0. +0.j 0. +0.j 0. +0.j]\n [0. +0.j 0. +0.j 0. +0.j 0. +0.j 0. +0.j 0. +0.j 0. +0.j 0. +0.j]\n [0. +0.j 0. +0.j 0. +0.j 0. +0.j 0. +0.j 0. +0.j 0. +0.j 0. +0.j]\n [0. +0.j 0. +0.j 0. +0.j 0. +0.j 0. +0.j 0. +0.j 0. +0.j 0. +0.j]\n [0. +0.j 0. +0.j 0. +0.j 0. +0.j 0. +0.j 0. +0.j 0. +0.j 0. +0.j]\n [0. +0.j 0. +0.j 0. +0.j 0. +0.j 0. +0.j 0. +0.j 0. +0.j 0. +0.j]\n [0.5+0.j 0. +0.j 0. +0.j 0. +0.j 0. +0.j 0. +0.j 0. +0.j 0.5+0.j]]"
     },
     "metadata": {},
     "output_type": "execute_result",
     "execution_count": 201
    }
   ],
   "source": [
    "q_ghz_rho = q_ghz @ q_ghz.H\n",
    "q_ghz_rho"
   ],
   "metadata": {
    "collapsed": false,
    "pycharm": {
     "name": "#%%\n",
     "is_executing": false
    }
   }
  },
  {
   "cell_type": "code",
   "execution_count": 225,
   "outputs": [
    {
     "name": "stdout",
     "text": [
      "0.0",
      "\n",
      "0.0",
      "\n",
      "0.0",
      "\n",
      "1.1185094152656821e-14",
      "\n"
     ],
     "output_type": "stream"
    }
   ],
   "source": [
    "for i in [qggg, qeee, q_ghz, q_all]:\n",
    "    print(q.entropy(i @ i.H))\n"
   ],
   "metadata": {
    "collapsed": false,
    "pycharm": {
     "name": "#%%\n",
     "is_executing": false
    }
   }
  },
  {
   "cell_type": "code",
   "execution_count": 239,
   "outputs": [
    {
     "name": "stderr",
     "text": [
      "C:\\Users\\harry\\Anaconda3\\envs\\urop\\lib\\site-packages\\ipykernel_launcher.py:3: RuntimeWarning: divide by zero encountered in log\n  This is separate from the ipykernel package so we can avoid doing imports until\n",
      "C:\\Users\\harry\\Anaconda3\\envs\\urop\\lib\\site-packages\\ipykernel_launcher.py:3: RuntimeWarning: invalid value encountered in multiply\n  This is separate from the ipykernel package so we can avoid doing imports until\n",
      "C:\\Users\\harry\\Anaconda3\\envs\\urop\\lib\\site-packages\\ipykernel_launcher.py:4: RuntimeWarning: divide by zero encountered in log\n  after removing the cwd from sys.path.\n"
     ],
     "output_type": "stream"
    },
    {
     "name": "stdout",
     "text": [
      "(0.6931471805599454-0j)",
      "\n",
      "(0.6931471805599454-0j)",
      "\n"
     ],
     "output_type": "stream"
    }
   ],
   "source": [
    "test_state = q_ghz\n",
    "test_density_matrix = test_state @ test_state.H\n",
    "print(-np.trace(np.nan_to_num(test_density_matrix * np.log(test_density_matrix))))\n",
    "print(-np.sum(test_state ** 2 * np.nan_to_num(np.log(test_state ** 2))))"
   ],
   "metadata": {
    "collapsed": false,
    "pycharm": {
     "name": "#%%\n",
     "is_executing": false
    }
   }
  },
  {
   "cell_type": "code",
   "execution_count": 227,
   "outputs": [
    {
     "data": {
      "text/plain": "7.996468446282769"
     },
     "metadata": {},
     "output_type": "execute_result",
     "execution_count": 227
    }
   ],
   "source": [
    "np.e ** 2.079\n"
   ],
   "metadata": {
    "collapsed": false,
    "pycharm": {
     "name": "#%%\n",
     "is_executing": false
    }
   }
  },
  {
   "cell_type": "code",
   "execution_count": null,
   "outputs": [],
   "source": [],
   "metadata": {
    "collapsed": false,
    "pycharm": {
     "name": "#%%\n"
    }
   }
  },
  {
   "cell_type": "code",
   "execution_count": null,
   "outputs": [],
   "source": [],
   "metadata": {
    "collapsed": false,
    "pycharm": {
     "name": "#%%"
    }
   }
  }
 ],
 "metadata": {
  "language_info": {
   "codemirror_mode": {
    "name": "ipython",
    "version": 2
   },
   "file_extension": ".py",
   "mimetype": "text/x-python",
   "name": "python",
   "nbconvert_exporter": "python",
   "pygments_lexer": "ipython2",
   "version": "2.7.6"
  },
  "kernelspec": {
   "name": "python3",
   "language": "python",
   "display_name": "Python 3"
  },
  "pycharm": {
   "stem_cell": {
    "cell_type": "raw",
    "source": [],
    "metadata": {
     "collapsed": false
    }
   }
  }
 },
 "nbformat": 4,
 "nbformat_minor": 0
}