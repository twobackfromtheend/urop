{
 "cells": [
  {
   "cell_type": "markdown",
   "metadata": {
    "collapsed": true,
    "pycharm": {
     "name": "#%% md\n"
    }
   },
   "source": [
    "# Investigating solve speeds\n"
   ]
  },
  {
   "cell_type": "code",
   "execution_count": 20,
   "outputs": [],
   "source": [
    "import pickle\n",
    "import time\n",
    "from collections import defaultdict\n",
    "from typing import Sequence\n",
    "import matplotlib.pyplot as plt\n",
    "import numpy as np\n",
    "from tqdm.auto import tqdm\n",
    "from qutip import sesolve, Options, fidelity\n",
    "\n",
    "from demonstration_utils import *\n",
    "import interaction_constants\n",
    "from qubit_system.geometry.regular_lattice_1d import RegularLattice1D\n",
    "from qubit_system.qubit_system_classes import EvolvingQubitSystem\n",
    "from qubit_system.utils.ghz_states import StandardGHZState\n",
    "from qubit_system.utils.interpolation import get_hamiltonian_coeff_linear_interpolation\n",
    "from qubit_system.utils.states import get_states, get_label_from_state, get_product_basis_states_index\n"
   ],
   "metadata": {
    "collapsed": false,
    "pycharm": {
     "name": "#%%\n",
     "is_executing": false
    }
   }
  },
  {
   "cell_type": "code",
   "execution_count": 2,
   "outputs": [
    {
     "name": "stdout",
     "text": [
      "C6: 1.555e-26",
      "\n",
      "Characteristic V: 1.365e+09 Hz",
      "\n"
     ],
     "output_type": "stream"
    }
   ],
   "source": [
    "N_RYD = 50\n",
    "C6 = interaction_constants.get_C6(N_RYD)\n",
    "\n",
    "LATTICE_SPACING = 1.5e-6\n",
    "\n",
    "print(f\"C6: {C6:.3e}\")\n",
    "characteristic_V = C6 / (LATTICE_SPACING ** 6)\n",
    "print(f\"Characteristic V: {characteristic_V:.3e} Hz\")\n"
   ],
   "metadata": {
    "collapsed": false,
    "pycharm": {
     "name": "#%%\n",
     "is_executing": false
    }
   }
  },
  {
   "cell_type": "code",
   "execution_count": 41,
   "outputs": [],
   "source": [
    "def evaluate_solve_options(e_qs: EvolvingQubitSystem, options_args: Sequence[dict], repeats: int = 10):\n",
    "    hamiltonian = e_qs.get_hamiltonian()\n",
    "    solve_durations = defaultdict(list)\n",
    "    fidelities = defaultdict(list)\n",
    "    errors = defaultdict(list)\n",
    "    for _ in tqdm(range(repeats)):\n",
    "        for i, _options_args in enumerate(options_args):\n",
    "            start_time = time.process_time() \n",
    "            try:\n",
    "                solve_result = sesolve(\n",
    "                    hamiltonian,\n",
    "                    e_qs.psi_0,\n",
    "                    e_qs.t_list,\n",
    "                    options=Options(\n",
    "                        store_states=True,\n",
    "                        **_options_args\n",
    "                    ),\n",
    "                )\n",
    "            except Exception as e:\n",
    "                errors[i].append(e)\n",
    "                continue\n",
    "            end_time = time.process_time()\n",
    "            \n",
    "            solve_duration = end_time - start_time \n",
    "            # print(f\"duration: {solve_duration}\")\n",
    "            \n",
    "            solve_durations[i].append(solve_duration)\n",
    "            final_state = solve_result.states[-1]\n",
    "            fidelity_with_ghz = fidelity(final_state, e_qs.ghz_state.get_state_tensor(True)) ** 2\n",
    "            fidelity_with_ghz_as = fidelity(final_state, e_qs.ghz_state.get_state_tensor(False)) ** 2\n",
    "            fidelities[i].append((fidelity_with_ghz, fidelity_with_ghz_as))\n",
    "            \n",
    "    for i, _options_args in enumerate(options_args):\n",
    "        \n",
    "        print(\"\\n\")\n",
    "        print(f\"args: {_options_args}\")\n",
    "        if len(errors[i]) > 0:\n",
    "            print(f\"\\terrors: {len(errors)}\")\n",
    "        if len(fidelities[i]) != 0:\n",
    "            _durations = np.array(solve_durations[i])\n",
    "            _fidelities = np.array(fidelities[i])\n",
    "            all_fidelities_equal = np.isclose(_fidelities, _fidelities[0]).all()\n",
    "\n",
    "            print(f\"\\tfidelities: {_fidelities[0]}, all equal: {all_fidelities_equal}\")\n",
    "            print(f\"\\ttimes:\\tmin:\\t{_durations.min():.3f}\"\n",
    "                  f\"\\n\\t\\tmean:\\t{_durations.mean():.3f}\"\n",
    "                  f\"\\n\\t\\tmax:\\t{_durations.max():.3f}\"\n",
    "                  )\n",
    "    # print(solve_durations)\n",
    "    # print(fidelities)\n",
    "    "
   ],
   "metadata": {
    "collapsed": false,
    "pycharm": {
     "name": "#%%\n",
     "is_executing": false
    }
   }
  },
  {
   "cell_type": "code",
   "execution_count": 42,
   "outputs": [],
   "source": [
    "N = 8\n",
    "t = 0.5e-6\n",
    "e_qs_8_manual = EvolvingQubitSystem(\n",
    "    N=N, V=C6, geometry=RegularLattice1D(spacing=LATTICE_SPACING),\n",
    "    Omega=get_hamiltonian_coeff_linear_interpolation([0, t / 6, t * 5 / 6, t], [0, 480e6, 490e6, 0]),\n",
    "    Delta=get_hamiltonian_coeff_linear_interpolation([0, t], [1.5e9, 1.2e9]),\n",
    "    t_list=np.linspace(0, t, 100),\n",
    "    ghz_state=StandardGHZState(N)\n",
    ")"
   ],
   "metadata": {
    "collapsed": false,
    "pycharm": {
     "name": "#%%\n",
     "is_executing": false
    }
   }
  },
  {
   "cell_type": "code",
   "execution_count": 43,
   "outputs": [],
   "source": [
    "with open(\"reinforcement_learning/results/20190814_211310.pkl\", \"rb\") as f:\n",
    "    data = pickle.load(f)\n",
    "t_list = data['evolving_qubit_system_kwargs']['t_list']\n",
    "solve_t_list = np.linspace(t_list[0], t_list[-1], 300)\n",
    "\n",
    "data['evolving_qubit_system_kwargs'].pop('t_list')\n",
    "e_qs_8_rl = EvolvingQubitSystem(\n",
    "    **data['evolving_qubit_system_kwargs'],\n",
    "    Omega=get_hamiltonian_coeff_linear_interpolation(t_list, data['protocol'].Omega),\n",
    "    Delta=get_hamiltonian_coeff_linear_interpolation(t_list, data['protocol'].Delta),\n",
    "    t_list=solve_t_list,\n",
    ")"
   ],
   "metadata": {
    "collapsed": false,
    "pycharm": {
     "name": "#%%\n",
     "is_executing": false
    }
   }
  },
  {
   "cell_type": "code",
   "execution_count": 29,
   "outputs": [
    {
     "data": {
      "text/plain": "HBox(children=(IntProgress(value=0, max=10), HTML(value='')))",
      "application/vnd.jupyter.widget-view+json": {
       "version_major": 2,
       "version_minor": 0,
       "model_id": "1dae9398b44741319974fd5bfeda7d7e"
      }
     },
     "metadata": {},
     "output_type": "display_data"
    },
    {
     "name": "stderr",
     "text": [
      "C:\\Users\\harry\\Anaconda3\\envs\\urop\\lib\\site-packages\\scipy\\integrate\\_ode.py:1009: UserWarning: zvode: Excess work done on this call. (Perhaps wrong MF.)\n  self.messages.get(istate, unexpected_istate_msg)))\n",
      "C:\\Users\\harry\\Anaconda3\\envs\\urop\\lib\\site-packages\\scipy\\integrate\\_ode.py:1009: UserWarning: zvode: Excess work done on this call. (Perhaps wrong MF.)\n  self.messages.get(istate, unexpected_istate_msg)))\n",
      "C:\\Users\\harry\\Anaconda3\\envs\\urop\\lib\\site-packages\\scipy\\integrate\\_ode.py:1009: UserWarning: zvode: Excess work done on this call. (Perhaps wrong MF.)\n  self.messages.get(istate, unexpected_istate_msg)))\n",
      "C:\\Users\\harry\\Anaconda3\\envs\\urop\\lib\\site-packages\\scipy\\integrate\\_ode.py:1009: UserWarning: zvode: Excess work done on this call. (Perhaps wrong MF.)\n  self.messages.get(istate, unexpected_istate_msg)))\n",
      "C:\\Users\\harry\\Anaconda3\\envs\\urop\\lib\\site-packages\\scipy\\integrate\\_ode.py:1009: UserWarning: zvode: Excess work done on this call. (Perhaps wrong MF.)\n  self.messages.get(istate, unexpected_istate_msg)))\n",
      "C:\\Users\\harry\\Anaconda3\\envs\\urop\\lib\\site-packages\\scipy\\integrate\\_ode.py:1009: UserWarning: zvode: Excess work done on this call. (Perhaps wrong MF.)\n  self.messages.get(istate, unexpected_istate_msg)))\n",
      "C:\\Users\\harry\\Anaconda3\\envs\\urop\\lib\\site-packages\\scipy\\integrate\\_ode.py:1009: UserWarning: zvode: Excess work done on this call. (Perhaps wrong MF.)\n  self.messages.get(istate, unexpected_istate_msg)))\n",
      "C:\\Users\\harry\\Anaconda3\\envs\\urop\\lib\\site-packages\\scipy\\integrate\\_ode.py:1009: UserWarning: zvode: Excess work done on this call. (Perhaps wrong MF.)\n  self.messages.get(istate, unexpected_istate_msg)))\n",
      "C:\\Users\\harry\\Anaconda3\\envs\\urop\\lib\\site-packages\\scipy\\integrate\\_ode.py:1009: UserWarning: zvode: Excess work done on this call. (Perhaps wrong MF.)\n  self.messages.get(istate, unexpected_istate_msg)))\n",
      "C:\\Users\\harry\\Anaconda3\\envs\\urop\\lib\\site-packages\\scipy\\integrate\\_ode.py:1009: UserWarning: zvode: Excess work done on this call. (Perhaps wrong MF.)\n  self.messages.get(istate, unexpected_istate_msg)))\n"
     ],
     "output_type": "stream"
    },
    {
     "name": "stdout",
     "text": [
      "\n",
      "\n",
      "args: {'order': 12}",
      "\n",
      "\tfidelities: [0.96721226 0.18609636], all equal: True",
      "\n",
      "\ttimes:\tmin:\t12.578\n\t\tmean:\t13.444\n\t\tmax:\t14.078",
      "\n",
      "\n",
      "\n",
      "args: {'order': 5}",
      "\n",
      "\tfidelities: [0.96721226 0.18609636], all equal: True",
      "\n",
      "\ttimes:\tmin:\t12.688\n\t\tmean:\t14.378\n\t\tmax:\t16.406",
      "\n",
      "\n",
      "\n",
      "args: {'order': 4}",
      "\n",
      "\tfidelities: [0.96721158 0.18604303], all equal: True",
      "\n",
      "\ttimes:\tmin:\t13.969\n\t\tmean:\t14.544\n\t\tmax:\t15.203",
      "\n",
      "\n",
      "\n",
      "args: {'order': 3}",
      "\n",
      "\terrors: 4",
      "\n"
     ],
     "output_type": "stream"
    }
   ],
   "source": [
    "options_args = [\n",
    "    {'order': 12},\n",
    "    {'order': 5},\n",
    "    {'order': 4},\n",
    "    {'order': 3},\n",
    "]\n",
    "evaluate_solve_options(e_qs_8_rl, options_args)"
   ],
   "metadata": {
    "collapsed": false,
    "pycharm": {
     "name": "#%%\n",
     "is_executing": false
    }
   }
  },
  {
   "cell_type": "code",
   "execution_count": 34,
   "outputs": [
    {
     "data": {
      "text/plain": "HBox(children=(IntProgress(value=0, max=10), HTML(value='')))",
      "application/vnd.jupyter.widget-view+json": {
       "version_major": 2,
       "version_minor": 0,
       "model_id": "a5165e3fa81440c2b37ce9b045f62827"
      }
     },
     "metadata": {},
     "output_type": "display_data"
    },
    {
     "name": "stdout",
     "text": [
      "\n",
      "\n",
      "args: {'method': 'bdf', 'order': 5}",
      "\n",
      "\tfidelities: [0.02779446 0.99512143], all equal: True",
      "\n",
      "\ttimes:\tmin:\t1.781\n\t\tmean:\t2.536\n\t\tmax:\t2.984",
      "\n",
      "\n",
      "\n",
      "args: {'method': 'adams', 'order': 5}",
      "\n",
      "\tfidelities: [0.02783744 0.99512253], all equal: True",
      "\n",
      "\ttimes:\tmin:\t2.250\n\t\tmean:\t2.283\n\t\tmax:\t2.406",
      "\n"
     ],
     "output_type": "stream"
    }
   ],
   "source": [
    "options_args = [\n",
    "    {'method': 'bdf', 'order': 5},\n",
    "    {'method': 'adams', 'order': 5},\n",
    "]\n",
    "evaluate_solve_options(e_qs_8_manual, options_args)"
   ],
   "metadata": {
    "collapsed": false,
    "pycharm": {
     "name": "#%%\n",
     "is_executing": false
    }
   }
  },
  {
   "cell_type": "code",
   "execution_count": 39,
   "outputs": [
    {
     "data": {
      "text/plain": "HBox(children=(IntProgress(value=0, max=10), HTML(value='')))",
      "application/vnd.jupyter.widget-view+json": {
       "version_major": 2,
       "version_minor": 0,
       "model_id": "bf8d9bd264294595804a59308efe9f70"
      }
     },
     "metadata": {},
     "output_type": "display_data"
    },
    {
     "name": "stdout",
     "text": [
      "\n",
      "\n",
      "args: {'atol': 1e-08, 'rtol': 1e-06}",
      "\n",
      "\tfidelities: [0.96721226 0.18609636], all equal: True",
      "\n",
      "\ttimes:\tmin:\t10.797\n\t\tmean:\t11.981\n\t\tmax:\t13.391",
      "\n",
      "\n",
      "\n",
      "args: {'atol': 1e-05, 'rtol': 0.0001}",
      "\n",
      "\tfidelities: [0.00667188 0.00126767], all equal: True",
      "\n",
      "\ttimes:\tmin:\t10.969\n\t\tmean:\t11.703\n\t\tmax:\t13.766",
      "\n",
      "\n",
      "\n",
      "args: {'atol': 0.0001, 'rtol': 0.001}",
      "\n",
      "\tfidelities: [0. 0.], all equal: True",
      "\n",
      "\ttimes:\tmin:\t10.109\n\t\tmean:\t10.475\n\t\tmax:\t11.750",
      "\n"
     ],
     "output_type": "stream"
    }
   ],
   "source": [
    "options_args = [\n",
    "    {'atol': 1e-8, 'rtol': 1e-6},  # default tolerances\n",
    "    {'atol': 1e-5, 'rtol': 1e-4},\n",
    "    {'atol': 1e-4, 'rtol': 1e-3},\n",
    "]\n",
    "evaluate_solve_options(e_qs_8_rl, options_args)"
   ],
   "metadata": {
    "collapsed": false,
    "pycharm": {
     "name": "#%%\n",
     "is_executing": false
    }
   }
  },
  {
   "cell_type": "code",
   "execution_count": 40,
   "outputs": [
    {
     "data": {
      "text/plain": "HBox(children=(IntProgress(value=0, max=10), HTML(value='')))",
      "application/vnd.jupyter.widget-view+json": {
       "version_major": 2,
       "version_minor": 0,
       "model_id": "5198b42d88754d3dbb2809fa0d5cfbc6"
      }
     },
     "metadata": {},
     "output_type": "display_data"
    },
    {
     "name": "stdout",
     "text": [
      "\n",
      "\n",
      "args: {'atol': 1e-08, 'rtol': 1e-06}",
      "\n",
      "\tfidelities: [0.96721226 0.18609636], all equal: True",
      "\n",
      "\ttimes:\tmin:\t11.234\n\t\tmean:\t12.259\n\t\tmax:\t12.875",
      "\n",
      "\n",
      "\n",
      "args: {'order': 5, 'atol': 1e-05, 'rtol': 0.0001}",
      "\n",
      "\tfidelities: [0.00667188 0.00126767], all equal: True",
      "\n",
      "\ttimes:\tmin:\t11.250\n\t\tmean:\t11.952\n\t\tmax:\t13.203",
      "\n",
      "\n",
      "\n",
      "args: {'order': 5, 'atol': 0.0001, 'rtol': 0.001}",
      "\n",
      "\tfidelities: [0. 0.], all equal: True",
      "\n",
      "\ttimes:\tmin:\t10.047\n\t\tmean:\t10.530\n\t\tmax:\t11.078",
      "\n"
     ],
     "output_type": "stream"
    }
   ],
   "source": [
    "options_args = [\n",
    "    {'atol': 1e-8, 'rtol': 1e-6},  # default tolerances\n",
    "    {'order': 5, 'atol': 1e-5, 'rtol': 1e-4},\n",
    "    {'order': 5, 'atol': 1e-4, 'rtol': 1e-3},\n",
    "]\n",
    "evaluate_solve_options(e_qs_8_rl, options_args)"
   ],
   "metadata": {
    "collapsed": false,
    "pycharm": {
     "name": "#%%\n",
     "is_executing": false
    }
   }
  },
  {
   "cell_type": "code",
   "execution_count": 36,
   "outputs": [
    {
     "data": {
      "text/plain": "HBox(children=(IntProgress(value=0, max=10), HTML(value='')))",
      "application/vnd.jupyter.widget-view+json": {
       "version_major": 2,
       "version_minor": 0,
       "model_id": "d842319b1b1643d88888d868e1a3e548"
      }
     },
     "metadata": {},
     "output_type": "display_data"
    },
    {
     "name": "stdout",
     "text": [
      "\n",
      "\n",
      "args: {'atol': 1e-08, 'rtol': 1e-06}",
      "\n",
      "\tfidelities: [0.96721226 0.18609636], all equal: True",
      "\n",
      "\ttimes:\tmin:\t11.484\n\t\tmean:\t11.859\n\t\tmax:\t12.547",
      "\n",
      "\n",
      "\n",
      "args: {'order': 8, 'atol': 1e-05, 'rtol': 0.0001}",
      "\n",
      "\tfidelities: [0.00667188 0.00126767], all equal: True",
      "\n",
      "\ttimes:\tmin:\t10.797\n\t\tmean:\t11.316\n\t\tmax:\t11.938",
      "\n",
      "\n",
      "\n",
      "args: {'order': 5, 'atol': 1e-05, 'rtol': 0.0001}",
      "\n",
      "\tfidelities: [0.00667188 0.00126767], all equal: True",
      "\n",
      "\ttimes:\tmin:\t10.781\n\t\tmean:\t11.408\n\t\tmax:\t13.016",
      "\n"
     ],
     "output_type": "stream"
    }
   ],
   "source": [
    "options_args = [\n",
    "    {'atol': 1e-8, 'rtol': 1e-6},  # default\n",
    "    {'order': 8, 'atol': 1e-5, 'rtol': 1e-4},\n",
    "    {'order': 5, 'atol': 1e-5, 'rtol': 1e-4},\n",
    "]\n",
    "evaluate_solve_options(e_qs_8_rl, options_args)"
   ],
   "metadata": {
    "collapsed": false,
    "pycharm": {
     "name": "#%%\n",
     "is_executing": false
    }
   }
  },
  {
   "cell_type": "code",
   "execution_count": null,
   "outputs": [],
   "source": [],
   "metadata": {
    "collapsed": false,
    "pycharm": {
     "name": "#%%\n"
    }
   }
  }
 ],
 "metadata": {
  "language_info": {
   "codemirror_mode": {
    "name": "ipython",
    "version": 2
   },
   "file_extension": ".py",
   "mimetype": "text/x-python",
   "name": "python",
   "nbconvert_exporter": "python",
   "pygments_lexer": "ipython2",
   "version": "2.7.6"
  },
  "kernelspec": {
   "name": "python3",
   "language": "python",
   "display_name": "Python 3"
  },
  "pycharm": {
   "stem_cell": {
    "cell_type": "raw",
    "source": [],
    "metadata": {
     "collapsed": false
    }
   }
  }
 },
 "nbformat": 4,
 "nbformat_minor": 0
}