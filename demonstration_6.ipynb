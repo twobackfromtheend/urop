{
 "cells": [
  {
   "cell_type": "markdown",
   "metadata": {
    "pycharm": {
     "name": "#%% md\n"
    }
   },
   "source": [
    "# Investigating solve speeds\n"
   ]
  },
  {
   "cell_type": "code",
   "execution_count": 1,
   "metadata": {},
   "outputs": [
    {
     "data": {
      "application/vnd.jupyter.widget-view+json": {
       "model_id": "34057466dcc7471ba5408973cc594401",
       "version_major": 2,
       "version_minor": 0
      },
      "text/plain": [
       "Button(style=ButtonStyle())"
      ]
     },
     "metadata": {},
     "output_type": "display_data"
    }
   ],
   "source": [
    "from ipywidgets import Button\n",
    "\n",
    "Button()"
   ]
  },
  {
   "cell_type": "code",
   "execution_count": 1,
   "metadata": {
    "pycharm": {
     "is_executing": false,
     "name": "#%%\n"
    }
   },
   "outputs": [],
   "source": [
    "import pickle\n",
    "import time\n",
    "from collections import defaultdict\n",
    "from typing import Sequence\n",
    "import warnings\n",
    "\n",
    "import matplotlib.pyplot as plt\n",
    "import numpy as np\n",
    "from tqdm.auto import tqdm\n",
    "from qutip import sesolve, Options, fidelity\n",
    "\n",
    "from demonstration_utils import *\n",
    "import interaction_constants\n",
    "from qubit_system.geometry.regular_lattice_1d import RegularLattice1D\n",
    "from qubit_system.qubit_system_classes import EvolvingQubitSystem\n",
    "from qubit_system.utils.ghz_states import StandardGHZState\n",
    "from qubit_system.utils.interpolation import get_hamiltonian_coeff_linear_interpolation\n",
    "from qubit_system.utils.states import get_states, get_label_from_state, get_product_basis_states_index\n"
   ]
  },
  {
   "cell_type": "code",
   "execution_count": 2,
   "metadata": {
    "pycharm": {
     "is_executing": false,
     "name": "#%%\n"
    }
   },
   "outputs": [
    {
     "name": "stdout",
     "output_type": "stream",
     "text": [
      "C6: 1.555e-26\n",
      "Characteristic V: 1.365e+09 Hz\n"
     ]
    }
   ],
   "source": [
    "N_RYD = 50\n",
    "C6 = interaction_constants.get_C6(N_RYD)\n",
    "\n",
    "LATTICE_SPACING = 1.5e-6\n",
    "\n",
    "print(f\"C6: {C6:.3e}\")\n",
    "characteristic_V = C6 / (LATTICE_SPACING ** 6)\n",
    "print(f\"Characteristic V: {characteristic_V:.3e} Hz\")\n"
   ]
  },
  {
   "cell_type": "code",
   "execution_count": 3,
   "metadata": {
    "pycharm": {
     "is_executing": false,
     "name": "#%%\n"
    }
   },
   "outputs": [],
   "source": [
    "def evaluate_solve_options(e_qs: EvolvingQubitSystem, options_args: Sequence[dict], repeats: int = 10):\n",
    "    hamiltonian = e_qs.get_hamiltonian()\n",
    "    solve_durations = defaultdict(list)\n",
    "    fidelities = defaultdict(list)\n",
    "    errors = defaultdict(list)\n",
    "    warnings_ = defaultdict(list)\n",
    "\n",
    "    for _ in tqdm(range(repeats)):\n",
    "        for i, _options_args in enumerate(options_args):\n",
    "            start_time = time.process_time() \n",
    "            with warnings.catch_warnings(record=True) as w:\n",
    "                try:\n",
    "                    solve_result = sesolve(\n",
    "                        hamiltonian,\n",
    "                        e_qs.psi_0,\n",
    "                        e_qs.t_list,\n",
    "                        options=Options(\n",
    "                            store_states=True,\n",
    "                            **_options_args\n",
    "                        ),\n",
    "                    )\n",
    "                except Exception as e:\n",
    "                    errors[i].append(e)\n",
    "                    warnings_[i] += w\n",
    "                    continue    \n",
    "                warnings_[i] += w\n",
    "\n",
    "            end_time = time.process_time()\n",
    "            \n",
    "            solve_duration = end_time - start_time \n",
    "            # print(f\"duration: {solve_duration}\")\n",
    "            \n",
    "            solve_durations[i].append(solve_duration)\n",
    "            final_state = solve_result.states[-1]\n",
    "            fidelity_with_ghz = fidelity(final_state, e_qs.ghz_state.get_state_tensor(True)) ** 2\n",
    "            fidelity_with_ghz_as = fidelity(final_state, e_qs.ghz_state.get_state_tensor(False)) ** 2\n",
    "            fidelities[i].append((fidelity_with_ghz, fidelity_with_ghz_as))\n",
    "            \n",
    "    for i, _options_args in enumerate(options_args):\n",
    "        \n",
    "        print(\"\\n\")\n",
    "        print(f\"args: {_options_args}\")\n",
    "        if len(errors[i]) > 0:\n",
    "            print(f\"\\terrors: {len(errors[i])}\")\n",
    "            print(f\"\\t\\t{errors[i][0]}\")\n",
    "        if len(warnings_[i]) > 0:\n",
    "            print(f\"\\twarnings: {len(warnings_[i])}\")\n",
    "            print(f\"\\t\\t{warnings_[i][0]}\")\n",
    "        if len(fidelities[i]) != 0:\n",
    "            _durations = np.array(solve_durations[i])\n",
    "            _fidelities = np.array(fidelities[i])\n",
    "            all_fidelities_equal = np.isclose(_fidelities, _fidelities[0]).all()\n",
    "\n",
    "            print(f\"\\tfidelities: {_fidelities[0]}, all equal: {all_fidelities_equal}\")\n",
    "            print(f\"\\ttimes:\\tmin:\\t{_durations.min():.3f}\"\n",
    "                  f\"\\n\\t\\tmean:\\t{_durations.mean():.3f}\"\n",
    "                  f\"\\n\\t\\tmax:\\t{_durations.max():.3f}\"\n",
    "                  )\n",
    "    # print(solve_durations)\n",
    "    # print(fidelities)\n",
    "    "
   ]
  },
  {
   "cell_type": "code",
   "execution_count": 4,
   "metadata": {
    "pycharm": {
     "is_executing": false,
     "name": "#%%\n"
    }
   },
   "outputs": [],
   "source": [
    "N = 8\n",
    "t = 0.5e-6\n",
    "e_qs_8_manual = EvolvingQubitSystem(\n",
    "    N=N, V=C6, geometry=RegularLattice1D(spacing=LATTICE_SPACING),\n",
    "    Omega=get_hamiltonian_coeff_linear_interpolation([0, t / 6, t * 5 / 6, t], [0, 480e6, 490e6, 0]),\n",
    "    Delta=get_hamiltonian_coeff_linear_interpolation([0, t], [1.5e9, 1.2e9]),\n",
    "    t_list=np.linspace(0, t, 100),\n",
    "    ghz_state=StandardGHZState(N)\n",
    ")"
   ]
  },
  {
   "cell_type": "code",
   "execution_count": 5,
   "metadata": {
    "pycharm": {
     "is_executing": false,
     "name": "#%%\n"
    }
   },
   "outputs": [],
   "source": [
    "with open(\"reinforcement_learning/results/20190814_211310.pkl\", \"rb\") as f:\n",
    "    data = pickle.load(f)\n",
    "t_list = data['evolving_qubit_system_kwargs']['t_list']\n",
    "solve_t_list = np.linspace(t_list[0], t_list[-1], 300)\n",
    "\n",
    "data['evolving_qubit_system_kwargs'].pop('t_list')\n",
    "e_qs_8_rl = EvolvingQubitSystem(\n",
    "    **data['evolving_qubit_system_kwargs'],\n",
    "    Omega=get_hamiltonian_coeff_linear_interpolation(t_list, data['protocol'].Omega),\n",
    "    Delta=get_hamiltonian_coeff_linear_interpolation(t_list, data['protocol'].Delta),\n",
    "    t_list=solve_t_list,\n",
    ")"
   ]
  },
  {
   "cell_type": "code",
   "execution_count": 18,
   "metadata": {},
   "outputs": [
    {
     "data": {
      "application/vnd.jupyter.widget-view+json": {
       "model_id": "3ac99f42ded640fa88f472bc775c7d47",
       "version_major": 2,
       "version_minor": 0
      },
      "text/plain": [
       "HBox(children=(IntProgress(value=0, max=10), HTML(value='')))"
      ]
     },
     "metadata": {},
     "output_type": "display_data"
    },
    {
     "name": "stdout",
     "output_type": "stream",
     "text": [
      "\n",
      "\n",
      "\n",
      "args: {}\n",
      "\tfidelities: [0.93543184 0.03470263], all equal: True\n",
      "\ttimes:\tmin:\t29.725\n",
      "\t\tmean:\t31.673\n",
      "\t\tmax:\t32.906\n"
     ]
    },
    {
     "data": {
      "application/vnd.jupyter.widget-view+json": {
       "model_id": "5082467263ad4746a1654b7e97340d3d",
       "version_major": 2,
       "version_minor": 0
      },
      "text/plain": [
       "HBox(children=(IntProgress(value=0, max=10), HTML(value='')))"
      ]
     },
     "metadata": {},
     "output_type": "display_data"
    },
    {
     "name": "stdout",
     "output_type": "stream",
     "text": [
      "\n",
      "\n",
      "\n",
      "args: {}\n",
      "\tfidelities: [7.74922829e-04 9.90268868e-01], all equal: True\n",
      "\ttimes:\tmin:\t3.245\n",
      "\t\tmean:\t3.346\n",
      "\t\tmax:\t3.446\n"
     ]
    }
   ],
   "source": [
    "# Expected fidelities, baseline results\n",
    "\n",
    "options_args = [{}]\n",
    "\n",
    "evaluate_solve_options(e_qs_8_rl, options_args)\n",
    "evaluate_solve_options(e_qs_8_manual, options_args)"
   ]
  },
  {
   "cell_type": "code",
   "execution_count": 6,
   "metadata": {
    "pycharm": {
     "is_executing": false,
     "name": "#%%\n"
    }
   },
   "outputs": [
    {
     "data": {
      "application/vnd.jupyter.widget-view+json": {
       "model_id": "42dd788672274b678579d347d1ec427d",
       "version_major": 2,
       "version_minor": 0
      },
      "text/plain": [
       "HBox(children=(IntProgress(value=0, max=10), HTML(value='')))"
      ]
     },
     "metadata": {},
     "output_type": "display_data"
    },
    {
     "name": "stdout",
     "output_type": "stream",
     "text": [
      "\n",
      "\n",
      "\n",
      "args: {'order': 12}\n",
      "\tfidelities: [0.93543184 0.03470263], all equal: True\n",
      "\ttimes:\tmin:\t30.457\n",
      "\t\tmean:\t35.152\n",
      "\t\tmax:\t45.790\n",
      "\n",
      "\n",
      "args: {'order': 5}\n",
      "\tfidelities: [0.93543184 0.03470263], all equal: True\n",
      "\ttimes:\tmin:\t30.695\n",
      "\t\tmean:\t35.839\n",
      "\t\tmax:\t45.965\n",
      "\n",
      "\n",
      "args: {'order': 4}\n",
      "\tfidelities: [0.93549824 0.03461201], all equal: True\n",
      "\ttimes:\tmin:\t31.498\n",
      "\t\tmean:\t35.284\n",
      "\t\tmax:\t40.769\n",
      "\n",
      "\n",
      "args: {'order': 3}\n",
      "\terrors: 10\n",
      "\t\tODE integration error: Try to increase the allowed number of substeps by increasing the nsteps parameter in the Options class.\n",
      "\twarnings: 10\n",
      "\t\t{message : UserWarning('zvode: Excess work done on this call. (Perhaps wrong MF.)'), category : 'UserWarning', filename : '/rds/general/user/hx1013/home/.local/lib/python3.7/site-packages/scipy/integrate/_ode.py', lineno : 1009, line : None}\n"
     ]
    }
   ],
   "source": [
    "options_args = [\n",
    "    {'order': 12},\n",
    "    {'order': 5},\n",
    "    {'order': 4},\n",
    "    {'order': 3},\n",
    "]\n",
    "evaluate_solve_options(e_qs_8_rl, options_args)"
   ]
  },
  {
   "cell_type": "code",
   "execution_count": 9,
   "metadata": {
    "pycharm": {
     "is_executing": false,
     "name": "#%%\n"
    }
   },
   "outputs": [
    {
     "data": {
      "application/vnd.jupyter.widget-view+json": {
       "model_id": "47c1849fbb914d61820c415c5cdf9125",
       "version_major": 2,
       "version_minor": 0
      },
      "text/plain": [
       "HBox(children=(IntProgress(value=0, max=10), HTML(value='')))"
      ]
     },
     "metadata": {},
     "output_type": "display_data"
    },
    {
     "name": "stdout",
     "output_type": "stream",
     "text": [
      "\n",
      "\n",
      "\n",
      "args: {'method': 'bdf', 'order': 5}\n",
      "\tfidelities: [7.72532112e-04 9.90266678e-01], all equal: True\n",
      "\ttimes:\tmin:\t4.164\n",
      "\t\tmean:\t4.441\n",
      "\t\tmax:\t4.872\n",
      "\n",
      "\n",
      "args: {'method': 'adams', 'order': 5}\n",
      "\tfidelities: [7.74922829e-04 9.90268868e-01], all equal: True\n",
      "\ttimes:\tmin:\t3.305\n",
      "\t\tmean:\t3.551\n",
      "\t\tmax:\t3.857\n"
     ]
    }
   ],
   "source": [
    "options_args = [\n",
    "    {'method': 'bdf', 'order': 5},\n",
    "    {'method': 'adams', 'order': 5},\n",
    "]\n",
    "evaluate_solve_options(e_qs_8_manual, options_args)"
   ]
  },
  {
   "cell_type": "code",
   "execution_count": 8,
   "metadata": {
    "pycharm": {
     "is_executing": false,
     "name": "#%%\n"
    }
   },
   "outputs": [
    {
     "data": {
      "application/vnd.jupyter.widget-view+json": {
       "model_id": "564cc04559724b8480102f1ffc987863",
       "version_major": 2,
       "version_minor": 0
      },
      "text/plain": [
       "HBox(children=(IntProgress(value=0, max=10), HTML(value='')))"
      ]
     },
     "metadata": {},
     "output_type": "display_data"
    },
    {
     "name": "stdout",
     "output_type": "stream",
     "text": [
      "\n",
      "\n",
      "\n",
      "args: {'atol': 1e-08, 'rtol': 1e-06}\n",
      "\tfidelities: [0.93543184 0.03470263], all equal: True\n",
      "\ttimes:\tmin:\t30.245\n",
      "\t\tmean:\t30.714\n",
      "\t\tmax:\t31.045\n",
      "\n",
      "\n",
      "args: {'atol': 1e-07, 'rtol': 1e-06}\n",
      "\tfidelities: [0.93537871 0.0345893 ], all equal: True\n",
      "\ttimes:\tmin:\t30.655\n",
      "\t\tmean:\t31.235\n",
      "\t\tmax:\t31.720\n",
      "\n",
      "\n",
      "args: {'atol': 1e-06, 'rtol': 1e-06}\n",
      "\tfidelities: [0.92554539 0.0339033 ], all equal: True\n",
      "\ttimes:\tmin:\t30.432\n",
      "\t\tmean:\t31.023\n",
      "\t\tmax:\t31.660\n",
      "\n",
      "\n",
      "args: {'atol': 1e-05, 'rtol': 1e-06}\n",
      "\tfidelities: [0.07638473 0.00277465], all equal: True\n",
      "\ttimes:\tmin:\t30.091\n",
      "\t\tmean:\t30.547\n",
      "\t\tmax:\t31.206\n"
     ]
    }
   ],
   "source": [
    "options_args = [\n",
    "    {'atol': 1e-8, 'rtol': 1e-6},  # default tolerances\n",
    "    {'atol': 1e-7, 'rtol': 1e-6},\n",
    "    {'atol': 1e-6, 'rtol': 1e-6},\n",
    "    {'atol': 1e-5, 'rtol': 1e-6},\n",
    "]\n",
    "evaluate_solve_options(e_qs_8_rl, options_args)"
   ]
  },
  {
   "cell_type": "code",
   "execution_count": 9,
   "metadata": {},
   "outputs": [
    {
     "data": {
      "application/vnd.jupyter.widget-view+json": {
       "model_id": "7b598001fd644cee84818d51c36fd662",
       "version_major": 2,
       "version_minor": 0
      },
      "text/plain": [
       "HBox(children=(IntProgress(value=0, max=10), HTML(value='')))"
      ]
     },
     "metadata": {},
     "output_type": "display_data"
    },
    {
     "name": "stdout",
     "output_type": "stream",
     "text": [
      "\n",
      "\n",
      "\n",
      "args: {'atol': 1e-08, 'rtol': 1e-06}\n",
      "\tfidelities: [0.93543184 0.03470263], all equal: True\n",
      "\ttimes:\tmin:\t29.130\n",
      "\t\tmean:\t30.501\n",
      "\t\tmax:\t31.729\n",
      "\n",
      "\n",
      "args: {'atol': 1e-08, 'rtol': 3e-05}\n",
      "\tfidelities: [0.93586656 0.03388395], all equal: True\n",
      "\ttimes:\tmin:\t28.722\n",
      "\t\tmean:\t30.129\n",
      "\t\tmax:\t31.009\n",
      "\n",
      "\n",
      "args: {'atol': 1e-08, 'rtol': 1e-05}\n",
      "\tfidelities: [0.9356986  0.03443109], all equal: True\n",
      "\ttimes:\tmin:\t28.443\n",
      "\t\tmean:\t29.745\n",
      "\t\tmax:\t30.318\n",
      "\n",
      "\n",
      "args: {'atol': 1e-08, 'rtol': 0.0001}\n",
      "\tfidelities: [0.92883073 0.03350507], all equal: True\n",
      "\ttimes:\tmin:\t29.646\n",
      "\t\tmean:\t30.918\n",
      "\t\tmax:\t31.717\n"
     ]
    }
   ],
   "source": [
    "options_args = [\n",
    "    {'atol': 1e-8, 'rtol': 1e-6},  # default tolerances\n",
    "    {'atol': 1e-8, 'rtol': 3e-5},\n",
    "    {'atol': 1e-8, 'rtol': 1e-5},\n",
    "    {'atol': 1e-8, 'rtol': 1e-4},\n",
    "]\n",
    "evaluate_solve_options(e_qs_8_rl, options_args)"
   ]
  },
  {
   "cell_type": "code",
   "execution_count": 11,
   "metadata": {
    "pycharm": {
     "is_executing": false,
     "name": "#%%\n"
    }
   },
   "outputs": [
    {
     "data": {
      "application/vnd.jupyter.widget-view+json": {
       "model_id": "02d45f7a946a4d0ea20dbe21a0f40b5c",
       "version_major": 2,
       "version_minor": 0
      },
      "text/plain": [
       "HBox(children=(IntProgress(value=0, max=10), HTML(value='')))"
      ]
     },
     "metadata": {},
     "output_type": "display_data"
    },
    {
     "name": "stdout",
     "output_type": "stream",
     "text": [
      "\n",
      "\n",
      "\n",
      "args: {'atol': 1e-08, 'rtol': 1e-06}\n",
      "\tfidelities: [0.93543184 0.03470263], all equal: True\n",
      "\ttimes:\tmin:\t27.982\n",
      "\t\tmean:\t28.221\n",
      "\t\tmax:\t28.364\n",
      "\n",
      "\n",
      "args: {'order': 5, 'atol': 1e-05, 'rtol': 0.0001}\n",
      "\tfidelities: [4.45141690e-05 1.60698363e-06], all equal: True\n",
      "\ttimes:\tmin:\t26.644\n",
      "\t\tmean:\t26.720\n",
      "\t\tmax:\t26.816\n",
      "\n",
      "\n",
      "args: {'order': 5, 'atol': 0.0001, 'rtol': 0.001}\n",
      "\tfidelities: [0. 0.], all equal: True\n",
      "\ttimes:\tmin:\t24.627\n",
      "\t\tmean:\t24.758\n",
      "\t\tmax:\t24.859\n"
     ]
    }
   ],
   "source": [
    "options_args = [\n",
    "    {'atol': 1e-8, 'rtol': 1e-6},  # default tolerances\n",
    "    {'order': 5, 'atol': 1e-5, 'rtol': 1e-4},\n",
    "    {'order': 5, 'atol': 1e-4, 'rtol': 1e-3},\n",
    "]\n",
    "evaluate_solve_options(e_qs_8_rl, options_args)"
   ]
  },
  {
   "cell_type": "code",
   "execution_count": 12,
   "metadata": {
    "pycharm": {
     "is_executing": false,
     "name": "#%%\n"
    }
   },
   "outputs": [
    {
     "data": {
      "application/vnd.jupyter.widget-view+json": {
       "model_id": "c052203c24d246cdb79f3ddcdc51a331",
       "version_major": 2,
       "version_minor": 0
      },
      "text/plain": [
       "HBox(children=(IntProgress(value=0, max=10), HTML(value='')))"
      ]
     },
     "metadata": {},
     "output_type": "display_data"
    },
    {
     "name": "stdout",
     "output_type": "stream",
     "text": [
      "\n",
      "\n",
      "\n",
      "args: {'atol': 1e-08, 'rtol': 1e-06}\n",
      "\tfidelities: [0.93543184 0.03470263], all equal: True\n",
      "\ttimes:\tmin:\t27.943\n",
      "\t\tmean:\t28.838\n",
      "\t\tmax:\t30.961\n",
      "\n",
      "\n",
      "args: {'order': 8, 'atol': 1e-05, 'rtol': 0.0001}\n",
      "\tfidelities: [4.45141690e-05 1.60698363e-06], all equal: True\n",
      "\ttimes:\tmin:\t26.614\n",
      "\t\tmean:\t27.034\n",
      "\t\tmax:\t27.717\n",
      "\n",
      "\n",
      "args: {'order': 5, 'atol': 1e-05, 'rtol': 0.0001}\n",
      "\tfidelities: [4.45141690e-05 1.60698363e-06], all equal: True\n",
      "\ttimes:\tmin:\t26.669\n",
      "\t\tmean:\t27.336\n",
      "\t\tmax:\t29.518\n"
     ]
    }
   ],
   "source": [
    "options_args = [\n",
    "    {'atol': 1e-8, 'rtol': 1e-6},  # default\n",
    "    {'order': 8, 'atol': 1e-5, 'rtol': 1e-4},\n",
    "    {'order': 5, 'atol': 1e-5, 'rtol': 1e-4},\n",
    "]\n",
    "evaluate_solve_options(e_qs_8_rl, options_args)"
   ]
  },
  {
   "cell_type": "code",
   "execution_count": 16,
   "metadata": {
    "pycharm": {
     "name": "#%%\n"
    }
   },
   "outputs": [
    {
     "data": {
      "application/vnd.jupyter.widget-view+json": {
       "model_id": "109eb085bf934013a94c99a14a25a2c8",
       "version_major": 2,
       "version_minor": 0
      },
      "text/plain": [
       "HBox(children=(IntProgress(value=0, max=10), HTML(value='')))"
      ]
     },
     "metadata": {},
     "output_type": "display_data"
    },
    {
     "name": "stdout",
     "output_type": "stream",
     "text": [
      "\n",
      "\n",
      "\n",
      "args: {'min_step': 0}\n",
      "\tfidelities: [7.74922829e-04 9.90268868e-01], all equal: True\n",
      "\ttimes:\tmin:\t3.195\n",
      "\t\tmean:\t3.298\n",
      "\t\tmax:\t3.438\n",
      "\n",
      "\n",
      "args: {'min_step': 1e-25}\n",
      "\tfidelities: [7.74922829e-04 9.90268868e-01], all equal: True\n",
      "\ttimes:\tmin:\t3.240\n",
      "\t\tmean:\t3.324\n",
      "\t\tmax:\t3.516\n",
      "\n",
      "\n",
      "args: {'min_step': 1e-20}\n",
      "\tfidelities: [7.74922829e-04 9.90268868e-01], all equal: True\n",
      "\ttimes:\tmin:\t3.184\n",
      "\t\tmean:\t3.289\n",
      "\t\tmax:\t3.415\n",
      "\n",
      "\n",
      "args: {'min_step': 1e-15}\n",
      "\tfidelities: [7.74922829e-04 9.90268868e-01], all equal: True\n",
      "\ttimes:\tmin:\t3.166\n",
      "\t\tmean:\t3.285\n",
      "\t\tmax:\t3.489\n",
      "\n",
      "\n",
      "args: {'min_step': 1e-10}\n",
      "\terrors: 10\n",
      "\t\tODE integration error: Try to increase the allowed number of substeps by increasing the nsteps parameter in the Options class.\n",
      "\twarnings: 10\n",
      "\t\t{message : UserWarning('zvode: Repeated error test failures. (Check all input.)'), category : 'UserWarning', filename : '/rds/general/user/hx1013/home/.local/lib/python3.7/site-packages/scipy/integrate/_ode.py', lineno : 1009, line : None}\n"
     ]
    }
   ],
   "source": [
    "options_args = [\n",
    "    {'min_step': 0},  # default\n",
    "    {'min_step': 1e-25},\n",
    "    {'min_step': 1e-20},\n",
    "    {'min_step': 1e-15},\n",
    "    {'min_step': 1e-10},\n",
    "]\n",
    "evaluate_solve_options(e_qs_8_manual, options_args)\n"
   ]
  },
  {
   "cell_type": "code",
   "execution_count": 14,
   "metadata": {},
   "outputs": [
    {
     "data": {
      "application/vnd.jupyter.widget-view+json": {
       "model_id": "5b8b4d1031ed4640bea6f93d47b1d793",
       "version_major": 2,
       "version_minor": 0
      },
      "text/plain": [
       "HBox(children=(IntProgress(value=0, max=10), HTML(value='')))"
      ]
     },
     "metadata": {},
     "output_type": "display_data"
    },
    {
     "name": "stdout",
     "output_type": "stream",
     "text": [
      "\n",
      "\n",
      "\n",
      "args: {'min_step': 1e-12}\n",
      "\terrors: 3\n",
      "\n",
      "\n",
      "args: {'min_step': 1e-10}\n",
      "\terrors: 3\n",
      "\n",
      "\n",
      "args: {'min_step': 1e-08}\n",
      "\terrors: 3\n"
     ]
    }
   ],
   "source": [
    "options_args = [\n",
    "    {'min_step': 1e-12},\n",
    "    {'min_step': 1e-10},\n",
    "    {'min_step': 1e-8},\n",
    "]\n",
    "evaluate_solve_options(e_qs_8_manual, options_args)"
   ]
  },
  {
   "cell_type": "code",
   "execution_count": 15,
   "metadata": {},
   "outputs": [
    {
     "data": {
      "application/vnd.jupyter.widget-view+json": {
       "model_id": "f7d66f38fef442dab907a6e60d6cf96e",
       "version_major": 2,
       "version_minor": 0
      },
      "text/plain": [
       "HBox(children=(IntProgress(value=0, max=10), HTML(value='')))"
      ]
     },
     "metadata": {},
     "output_type": "display_data"
    },
    {
     "name": "stdout",
     "output_type": "stream",
     "text": [
      "\n",
      "\n",
      "\n",
      "args: {'min_step': 1e-25}\n",
      "\tfidelities: [7.74922829e-04 9.90268868e-01], all equal: True\n",
      "\ttimes:\tmin:\t2.920\n",
      "\t\tmean:\t3.308\n",
      "\t\tmax:\t3.501\n",
      "\n",
      "\n",
      "args: {'min_step': 1e-20}\n",
      "\tfidelities: [7.74922829e-04 9.90268868e-01], all equal: True\n",
      "\ttimes:\tmin:\t3.318\n",
      "\t\tmean:\t3.338\n",
      "\t\tmax:\t3.382\n",
      "\n",
      "\n",
      "args: {'min_step': 1e-15}\n",
      "\tfidelities: [7.74922829e-04 9.90268868e-01], all equal: True\n",
      "\ttimes:\tmin:\t3.316\n",
      "\t\tmean:\t3.345\n",
      "\t\tmax:\t3.408\n"
     ]
    }
   ],
   "source": [
    "options_args = [\n",
    "    {'min_step': 1e-25},\n",
    "    {'min_step': 1e-20},\n",
    "    {'min_step': 1e-15},\n",
    "]\n",
    "evaluate_solve_options(e_qs_8_manual, options_args)"
   ]
  },
  {
   "cell_type": "code",
   "execution_count": 16,
   "metadata": {},
   "outputs": [
    {
     "data": {
      "application/vnd.jupyter.widget-view+json": {
       "model_id": "d31c9b86334447ab96347449cf833279",
       "version_major": 2,
       "version_minor": 0
      },
      "text/plain": [
       "HBox(children=(IntProgress(value=0, max=10), HTML(value='')))"
      ]
     },
     "metadata": {},
     "output_type": "display_data"
    },
    {
     "name": "stdout",
     "output_type": "stream",
     "text": [
      "\n",
      "\n",
      "\n",
      "args: {'min_step': 1e-15}\n",
      "\tfidelities: [0.93543184 0.03470263], all equal: True\n",
      "\ttimes:\tmin:\t28.625\n",
      "\t\tmean:\t29.184\n",
      "\t\tmax:\t31.669\n",
      "\n",
      "\n",
      "args: {'min_step': 1e-14}\n",
      "\tfidelities: [0.93543184 0.03470263], all equal: True\n",
      "\ttimes:\tmin:\t28.230\n",
      "\t\tmean:\t28.915\n",
      "\t\tmax:\t29.261\n",
      "\n",
      "\n",
      "args: {'min_step': 1e-13}\n",
      "\tfidelities: [0.93543184 0.03470263], all equal: True\n",
      "\ttimes:\tmin:\t28.212\n",
      "\t\tmean:\t28.720\n",
      "\t\tmax:\t29.248\n"
     ]
    }
   ],
   "source": [
    "options_args = [\n",
    "    {'min_step': 1e-15},\n",
    "    {'min_step': 1e-14},\n",
    "    {'min_step': 1e-13},\n",
    "]\n",
    "evaluate_solve_options(e_qs_8_rl, options_args)"
   ]
  },
  {
   "cell_type": "code",
   "execution_count": 17,
   "metadata": {},
   "outputs": [
    {
     "data": {
      "application/vnd.jupyter.widget-view+json": {
       "model_id": "945f0bcead46486f9971f38e007f4cc4",
       "version_major": 2,
       "version_minor": 0
      },
      "text/plain": [
       "HBox(children=(IntProgress(value=0, max=10), HTML(value='')))"
      ]
     },
     "metadata": {},
     "output_type": "display_data"
    },
    {
     "name": "stderr",
     "output_type": "stream",
     "text": [
      "/rds/general/user/hx1013/home/.local/lib/python3.7/site-packages/scipy/integrate/_ode.py:1009: UserWarning: zvode: Repeated error test failures. (Check all input.)\n",
      "  self.messages.get(istate, unexpected_istate_msg)))\n",
      "/rds/general/user/hx1013/home/.local/lib/python3.7/site-packages/scipy/integrate/_ode.py:1009: UserWarning: zvode: Repeated error test failures. (Check all input.)\n",
      "  self.messages.get(istate, unexpected_istate_msg)))\n",
      "/rds/general/user/hx1013/home/.local/lib/python3.7/site-packages/scipy/integrate/_ode.py:1009: UserWarning: zvode: Repeated error test failures. (Check all input.)\n",
      "  self.messages.get(istate, unexpected_istate_msg)))\n",
      "/rds/general/user/hx1013/home/.local/lib/python3.7/site-packages/scipy/integrate/_ode.py:1009: UserWarning: zvode: Repeated error test failures. (Check all input.)\n",
      "  self.messages.get(istate, unexpected_istate_msg)))\n",
      "/rds/general/user/hx1013/home/.local/lib/python3.7/site-packages/scipy/integrate/_ode.py:1009: UserWarning: zvode: Repeated error test failures. (Check all input.)\n",
      "  self.messages.get(istate, unexpected_istate_msg)))\n",
      "/rds/general/user/hx1013/home/.local/lib/python3.7/site-packages/scipy/integrate/_ode.py:1009: UserWarning: zvode: Repeated error test failures. (Check all input.)\n",
      "  self.messages.get(istate, unexpected_istate_msg)))\n",
      "/rds/general/user/hx1013/home/.local/lib/python3.7/site-packages/scipy/integrate/_ode.py:1009: UserWarning: zvode: Repeated error test failures. (Check all input.)\n",
      "  self.messages.get(istate, unexpected_istate_msg)))\n",
      "/rds/general/user/hx1013/home/.local/lib/python3.7/site-packages/scipy/integrate/_ode.py:1009: UserWarning: zvode: Repeated error test failures. (Check all input.)\n",
      "  self.messages.get(istate, unexpected_istate_msg)))\n",
      "/rds/general/user/hx1013/home/.local/lib/python3.7/site-packages/scipy/integrate/_ode.py:1009: UserWarning: zvode: Repeated error test failures. (Check all input.)\n",
      "  self.messages.get(istate, unexpected_istate_msg)))\n"
     ]
    },
    {
     "name": "stdout",
     "output_type": "stream",
     "text": [
      "\n",
      "\n",
      "\n",
      "args: {'min_step': 1e-13}\n",
      "\tfidelities: [0.93543184 0.03470263], all equal: True\n",
      "\ttimes:\tmin:\t28.068\n",
      "\t\tmean:\t28.861\n",
      "\t\tmax:\t29.309\n",
      "\n",
      "\n",
      "args: {'min_step': 1e-13, 'order': 5}\n",
      "\tfidelities: [0.93543184 0.03470263], all equal: True\n",
      "\ttimes:\tmin:\t28.847\n",
      "\t\tmean:\t29.093\n",
      "\t\tmax:\t29.412\n",
      "\n",
      "\n",
      "args: {'min_step': 1e-12, 'order': 5}\n",
      "\terrors: 3\n"
     ]
    },
    {
     "name": "stderr",
     "output_type": "stream",
     "text": [
      "/rds/general/user/hx1013/home/.local/lib/python3.7/site-packages/scipy/integrate/_ode.py:1009: UserWarning: zvode: Repeated error test failures. (Check all input.)\n",
      "  self.messages.get(istate, unexpected_istate_msg)))\n"
     ]
    }
   ],
   "source": [
    "options_args = [\n",
    "    {'min_step': 1e-13},\n",
    "    {'min_step': 1e-13, 'order': 5},\n",
    "    {'min_step': 1e-12, 'order': 5},\n",
    "]\n",
    "evaluate_solve_options(e_qs_8_rl, options_args)"
   ]
  },
  {
   "cell_type": "code",
   "execution_count": null,
   "metadata": {},
   "outputs": [],
   "source": []
  }
 ],
 "metadata": {
  "kernelspec": {
   "display_name": "urop",
   "language": "python",
   "name": "urop"
  },
  "language_info": {
   "codemirror_mode": {
    "name": "ipython",
    "version": 3
   },
   "file_extension": ".py",
   "mimetype": "text/x-python",
   "name": "python",
   "nbconvert_exporter": "python",
   "pygments_lexer": "ipython3",
   "version": "3.7.3"
  },
  "pycharm": {
   "stem_cell": {
    "cell_type": "raw",
    "metadata": {
     "collapsed": false
    },
    "source": []
   }
  },
  "widgets": {
   "application/vnd.jupyter.widget-state+json": {
    "state": {
     "0455112d4ea4492c88a1a6d01ff49822": {
      "model_module": "@jupyter-widgets/base",
      "model_module_version": "1.2.0",
      "model_name": "LayoutModel",
      "state": {
       "_model_module_version": "1.2.0",
       "_view_module_version": "1.2.0",
       "justify_items": null,
       "object_fit": null,
       "object_position": null
      }
     },
     "0509d8c3e8134379a626c1b0bc030060": {
      "model_module": "@jupyter-widgets/controls",
      "model_module_version": "1.5.0",
      "model_name": "DescriptionStyleModel",
      "state": {
       "_model_module_version": "1.5.0",
       "_view_module_version": "1.2.0",
       "description_width": ""
      }
     },
     "07595c9281ab49aeb31ef288614efbd3": {
      "model_module": "@jupyter-widgets/controls",
      "model_module_version": "1.5.0",
      "model_name": "DescriptionStyleModel",
      "state": {
       "_model_module_version": "1.5.0",
       "_view_module_version": "1.2.0",
       "description_width": ""
      }
     },
     "0af45d418c9842e1b43a71be6e788cdf": {
      "model_module": "@jupyter-widgets/base",
      "model_module_version": "1.2.0",
      "model_name": "LayoutModel",
      "state": {
       "_model_module_version": "1.2.0",
       "_view_module_version": "1.2.0",
       "justify_items": null,
       "object_fit": null,
       "object_position": null
      }
     },
     "109eb085bf934013a94c99a14a25a2c8": {
      "model_module": "@jupyter-widgets/controls",
      "model_module_version": "1.5.0",
      "model_name": "HBoxModel",
      "state": {
       "_model_module_version": "1.5.0",
       "_view_module_version": "1.5.0",
       "children": [
        "IPY_MODEL_b849093fa2fe449dab1cab1878cf66c3",
        "IPY_MODEL_5cf24e0f01714736b85b0326d1580edc"
       ],
       "layout": "IPY_MODEL_0455112d4ea4492c88a1a6d01ff49822"
      }
     },
     "1301878ab91249dd85e7b691b888eb94": {
      "model_module": "@jupyter-widgets/base",
      "model_module_version": "1.2.0",
      "model_name": "LayoutModel",
      "state": {
       "_model_module_version": "1.2.0",
       "_view_module_version": "1.2.0",
       "justify_items": null,
       "object_fit": null,
       "object_position": null
      }
     },
     "1667b00d7df9472088572c2da67af733": {
      "model_module": "@jupyter-widgets/base",
      "model_module_version": "1.2.0",
      "model_name": "LayoutModel",
      "state": {
       "_model_module_version": "1.2.0",
       "_view_module_version": "1.2.0",
       "justify_items": null,
       "object_fit": null,
       "object_position": null
      }
     },
     "16bf851eeb2d422c9198e2abc107172d": {
      "model_module": "@jupyter-widgets/controls",
      "model_module_version": "1.5.0",
      "model_name": "DescriptionStyleModel",
      "state": {
       "_model_module_version": "1.5.0",
       "_view_module_version": "1.2.0",
       "description_width": ""
      }
     },
     "1c3dccf3687747039b6b6aa10bcaedee": {
      "model_module": "@jupyter-widgets/controls",
      "model_module_version": "1.5.0",
      "model_name": "HTMLModel",
      "state": {
       "_model_module_version": "1.5.0",
       "_view_module_version": "1.5.0",
       "layout": "IPY_MODEL_861d8cb6afd743daad3e13aa341be693",
       "style": "IPY_MODEL_f514794d89c1489da6e8c4939d936591",
       "value": "100% 10/10 [00:34&lt;00:00,  3.41s/it]"
      }
     },
     "264d6bac5bb1423090972ef6d92ac7b5": {
      "model_module": "@jupyter-widgets/controls",
      "model_module_version": "1.5.0",
      "model_name": "ProgressStyleModel",
      "state": {
       "_model_module_version": "1.5.0",
       "_view_module_version": "1.2.0",
       "description_width": ""
      }
     },
     "2a6526a0e0274524b51021e401f9571d": {
      "model_module": "@jupyter-widgets/base",
      "model_module_version": "1.2.0",
      "model_name": "LayoutModel",
      "state": {
       "_model_module_version": "1.2.0",
       "_view_module_version": "1.2.0",
       "justify_items": null,
       "object_fit": null,
       "object_position": null
      }
     },
     "2b5dd2b68f63433fa8098b4ebf5663b8": {
      "model_module": "@jupyter-widgets/base",
      "model_module_version": "1.2.0",
      "model_name": "LayoutModel",
      "state": {
       "_model_module_version": "1.2.0",
       "_view_module_version": "1.2.0",
       "justify_items": null,
       "object_fit": null,
       "object_position": null
      }
     },
     "2d1b93f414744d4198b7fc35c263a0e5": {
      "model_module": "@jupyter-widgets/controls",
      "model_module_version": "1.5.0",
      "model_name": "DescriptionStyleModel",
      "state": {
       "_model_module_version": "1.5.0",
       "_view_module_version": "1.2.0",
       "description_width": ""
      }
     },
     "3056600199e8471c831001ca4ee630d5": {
      "model_module": "@jupyter-widgets/controls",
      "model_module_version": "1.5.0",
      "model_name": "HBoxModel",
      "state": {
       "_model_module_version": "1.5.0",
       "_view_module_version": "1.5.0",
       "children": [
        "IPY_MODEL_bd992c5518f94233982157363297a5b2",
        "IPY_MODEL_1c3dccf3687747039b6b6aa10bcaedee"
       ],
       "layout": "IPY_MODEL_7dc3727089e540f2bd243e43d1b63120"
      }
     },
     "30c664663f41445880dc2024cc378fbf": {
      "model_module": "@jupyter-widgets/base",
      "model_module_version": "1.2.0",
      "model_name": "LayoutModel",
      "state": {
       "_model_module_version": "1.2.0",
       "_view_module_version": "1.2.0",
       "justify_items": null,
       "object_fit": null,
       "object_position": null
      }
     },
     "336839114d964f81af2814c4b7887836": {
      "model_module": "@jupyter-widgets/controls",
      "model_module_version": "1.5.0",
      "model_name": "HTMLModel",
      "state": {
       "_model_module_version": "1.5.0",
       "_view_module_version": "1.5.0",
       "layout": "IPY_MODEL_0af45d418c9842e1b43a71be6e788cdf",
       "style": "IPY_MODEL_2d1b93f414744d4198b7fc35c263a0e5",
       "value": "100% 10/10 [00:34&lt;00:00,  3.41s/it]"
      }
     },
     "33aaf8e9de6c4394bf5d49fa35ac1215": {
      "model_module": "@jupyter-widgets/base",
      "model_module_version": "1.2.0",
      "model_name": "LayoutModel",
      "state": {
       "_model_module_version": "1.2.0",
       "_view_module_version": "1.2.0",
       "justify_items": null,
       "object_fit": null,
       "object_position": null
      }
     },
     "34057466dcc7471ba5408973cc594401": {
      "model_module": "@jupyter-widgets/controls",
      "model_module_version": "1.5.0",
      "model_name": "ButtonModel",
      "state": {
       "_model_module_version": "1.5.0",
       "_view_module_version": "1.5.0",
       "layout": "IPY_MODEL_5887290b52c347d09c4c4d0c55b9c367",
       "style": "IPY_MODEL_4a792fc54582401598f95c3672ef131b"
      }
     },
     "36bff8a85e2d48d3b9defd549f15048c": {
      "model_module": "@jupyter-widgets/base",
      "model_module_version": "1.2.0",
      "model_name": "LayoutModel",
      "state": {
       "_model_module_version": "1.2.0",
       "_view_module_version": "1.2.0",
       "justify_items": null,
       "object_fit": null,
       "object_position": null
      }
     },
     "3727f81e074b4710ac90afe573efe1a4": {
      "model_module": "@jupyter-widgets/base",
      "model_module_version": "1.2.0",
      "model_name": "LayoutModel",
      "state": {
       "_model_module_version": "1.2.0",
       "_view_module_version": "1.2.0",
       "justify_items": null,
       "object_fit": null,
       "object_position": null
      }
     },
     "388aeda2aeb24e6d9d1fc66efd81d71e": {
      "model_module": "@jupyter-widgets/base",
      "model_module_version": "1.2.0",
      "model_name": "LayoutModel",
      "state": {
       "_model_module_version": "1.2.0",
       "_view_module_version": "1.2.0",
       "justify_items": null,
       "object_fit": null,
       "object_position": null
      }
     },
     "38cbf1560b654eda916e015509c23d7f": {
      "model_module": "@jupyter-widgets/controls",
      "model_module_version": "1.5.0",
      "model_name": "ProgressStyleModel",
      "state": {
       "_model_module_version": "1.5.0",
       "_view_module_version": "1.2.0",
       "description_width": ""
      }
     },
     "3ac99f42ded640fa88f472bc775c7d47": {
      "model_module": "@jupyter-widgets/controls",
      "model_module_version": "1.5.0",
      "model_name": "HBoxModel",
      "state": {
       "_model_module_version": "1.5.0",
       "_view_module_version": "1.5.0",
       "children": [
        "IPY_MODEL_c6edaa0bcc0c4c13bd5f350e3dc3b761",
        "IPY_MODEL_d3ab20e75d4a4f40b22eb6db88f69c4e"
       ],
       "layout": "IPY_MODEL_98923a08dcd94de48a5e16eb715ca5eb"
      }
     },
     "4089383ee87c43c2ac1f38ab62e63e79": {
      "model_module": "@jupyter-widgets/controls",
      "model_module_version": "1.5.0",
      "model_name": "IntProgressModel",
      "state": {
       "_model_module_version": "1.5.0",
       "_view_module_version": "1.5.0",
       "bar_style": "success",
       "layout": "IPY_MODEL_3727f81e074b4710ac90afe573efe1a4",
       "max": 10,
       "style": "IPY_MODEL_264d6bac5bb1423090972ef6d92ac7b5",
       "value": 10
      }
     },
     "47c1849fbb914d61820c415c5cdf9125": {
      "model_module": "@jupyter-widgets/controls",
      "model_module_version": "1.5.0",
      "model_name": "HBoxModel",
      "state": {
       "_model_module_version": "1.5.0",
       "_view_module_version": "1.5.0",
       "children": [
        "IPY_MODEL_4089383ee87c43c2ac1f38ab62e63e79",
        "IPY_MODEL_bf7015ef591f46de802a29764244a5d9"
       ],
       "layout": "IPY_MODEL_f0aa55e274b04210ab2f62c4aebc3d9f"
      }
     },
     "4a156c7df32246b7a567bf4a2ad227d3": {
      "model_module": "@jupyter-widgets/controls",
      "model_module_version": "1.5.0",
      "model_name": "HTMLModel",
      "state": {
       "_model_module_version": "1.5.0",
       "_view_module_version": "1.5.0",
       "layout": "IPY_MODEL_388aeda2aeb24e6d9d1fc66efd81d71e",
       "style": "IPY_MODEL_16bf851eeb2d422c9198e2abc107172d",
       "value": "100% 10/10 [00:37&lt;00:00,  3.70s/it]"
      }
     },
     "4a792fc54582401598f95c3672ef131b": {
      "model_module": "@jupyter-widgets/controls",
      "model_module_version": "1.5.0",
      "model_name": "ButtonStyleModel",
      "state": {
       "_model_module_version": "1.5.0",
       "_view_module_version": "1.2.0"
      }
     },
     "507d6389e0864e8e849e706a8120ba4e": {
      "model_module": "@jupyter-widgets/controls",
      "model_module_version": "1.5.0",
      "model_name": "DescriptionStyleModel",
      "state": {
       "_model_module_version": "1.5.0",
       "_view_module_version": "1.2.0",
       "description_width": ""
      }
     },
     "5082467263ad4746a1654b7e97340d3d": {
      "model_module": "@jupyter-widgets/controls",
      "model_module_version": "1.5.0",
      "model_name": "HBoxModel",
      "state": {
       "_model_module_version": "1.5.0",
       "_view_module_version": "1.5.0",
       "children": [
        "IPY_MODEL_6b203858a1f34ba490a566bcd0c49663",
        "IPY_MODEL_336839114d964f81af2814c4b7887836"
       ],
       "layout": "IPY_MODEL_e166ed5afbe243bbaaf2fa6e442e5584"
      }
     },
     "5887290b52c347d09c4c4d0c55b9c367": {
      "model_module": "@jupyter-widgets/base",
      "model_module_version": "1.2.0",
      "model_name": "LayoutModel",
      "state": {
       "_model_module_version": "1.2.0",
       "_view_module_version": "1.2.0",
       "justify_items": null,
       "object_fit": null,
       "object_position": null
      }
     },
     "5a7b564730974cda9e144c6b1157b019": {
      "model_module": "@jupyter-widgets/controls",
      "model_module_version": "1.5.0",
      "model_name": "ProgressStyleModel",
      "state": {
       "_model_module_version": "1.5.0",
       "_view_module_version": "1.2.0",
       "description_width": ""
      }
     },
     "5cf24e0f01714736b85b0326d1580edc": {
      "model_module": "@jupyter-widgets/controls",
      "model_module_version": "1.5.0",
      "model_name": "HTMLModel",
      "state": {
       "_model_module_version": "1.5.0",
       "_view_module_version": "1.5.0",
       "layout": "IPY_MODEL_1301878ab91249dd85e7b691b888eb94",
       "style": "IPY_MODEL_507d6389e0864e8e849e706a8120ba4e",
       "value": "100% 10/10 [02:14&lt;00:00, 13.61s/it]"
      }
     },
     "6b203858a1f34ba490a566bcd0c49663": {
      "model_module": "@jupyter-widgets/controls",
      "model_module_version": "1.5.0",
      "model_name": "IntProgressModel",
      "state": {
       "_model_module_version": "1.5.0",
       "_view_module_version": "1.5.0",
       "bar_style": "success",
       "layout": "IPY_MODEL_2a6526a0e0274524b51021e401f9571d",
       "max": 10,
       "style": "IPY_MODEL_d88894ab4e2b458aab54e69680d7cc2d",
       "value": 10
      }
     },
     "6d467d9635bb4e05887a2883bc59da78": {
      "model_module": "@jupyter-widgets/controls",
      "model_module_version": "1.5.0",
      "model_name": "ProgressStyleModel",
      "state": {
       "_model_module_version": "1.5.0",
       "_view_module_version": "1.2.0",
       "description_width": ""
      }
     },
     "6dca153efa4f43cb954270a2ef62c3ed": {
      "model_module": "@jupyter-widgets/base",
      "model_module_version": "1.2.0",
      "model_name": "LayoutModel",
      "state": {
       "_model_module_version": "1.2.0",
       "_view_module_version": "1.2.0",
       "justify_items": null,
       "object_fit": null,
       "object_position": null
      }
     },
     "6dce05107710418dbcf69d0cad084bd5": {
      "model_module": "@jupyter-widgets/controls",
      "model_module_version": "1.5.0",
      "model_name": "ProgressStyleModel",
      "state": {
       "_model_module_version": "1.5.0",
       "_view_module_version": "1.2.0",
       "description_width": ""
      }
     },
     "70059e1e0f1d43c08d57cbe49ba4fb82": {
      "model_module": "@jupyter-widgets/controls",
      "model_module_version": "1.5.0",
      "model_name": "DescriptionStyleModel",
      "state": {
       "_model_module_version": "1.5.0",
       "_view_module_version": "1.2.0",
       "description_width": ""
      }
     },
     "707bdab4a0f24ac49d185367ec2c28aa": {
      "model_module": "@jupyter-widgets/base",
      "model_module_version": "1.2.0",
      "model_name": "LayoutModel",
      "state": {
       "_model_module_version": "1.2.0",
       "_view_module_version": "1.2.0",
       "justify_items": null,
       "object_fit": null,
       "object_position": null
      }
     },
     "76ed422a914747f28424a38589da6b77": {
      "model_module": "@jupyter-widgets/controls",
      "model_module_version": "1.5.0",
      "model_name": "HTMLModel",
      "state": {
       "_model_module_version": "1.5.0",
       "_view_module_version": "1.5.0",
       "layout": "IPY_MODEL_1667b00d7df9472088572c2da67af733",
       "style": "IPY_MODEL_70059e1e0f1d43c08d57cbe49ba4fb82",
       "value": "100% 10/10 [00:38&lt;00:00,  3.99s/it]"
      }
     },
     "7c0fba336fc34997800d90ec834ca00c": {
      "model_module": "@jupyter-widgets/base",
      "model_module_version": "1.2.0",
      "model_name": "LayoutModel",
      "state": {
       "_model_module_version": "1.2.0",
       "_view_module_version": "1.2.0",
       "justify_items": null,
       "object_fit": null,
       "object_position": null
      }
     },
     "7dc3727089e540f2bd243e43d1b63120": {
      "model_module": "@jupyter-widgets/base",
      "model_module_version": "1.2.0",
      "model_name": "LayoutModel",
      "state": {
       "_model_module_version": "1.2.0",
       "_view_module_version": "1.2.0",
       "justify_items": null,
       "object_fit": null,
       "object_position": null
      }
     },
     "861d8cb6afd743daad3e13aa341be693": {
      "model_module": "@jupyter-widgets/base",
      "model_module_version": "1.2.0",
      "model_name": "LayoutModel",
      "state": {
       "_model_module_version": "1.2.0",
       "_view_module_version": "1.2.0",
       "justify_items": null,
       "object_fit": null,
       "object_position": null
      }
     },
     "920c0a6aa1d94ad290e5a30488534b9d": {
      "model_module": "@jupyter-widgets/controls",
      "model_module_version": "1.5.0",
      "model_name": "HBoxModel",
      "state": {
       "_model_module_version": "1.5.0",
       "_view_module_version": "1.5.0",
       "children": [
        "IPY_MODEL_d1f8d8c4a1aa41e6a818f537cbf1f5ed",
        "IPY_MODEL_4a156c7df32246b7a567bf4a2ad227d3"
       ],
       "layout": "IPY_MODEL_6dca153efa4f43cb954270a2ef62c3ed"
      }
     },
     "975c6cacd1c3487390295f58cff43d0b": {
      "model_module": "@jupyter-widgets/base",
      "model_module_version": "1.2.0",
      "model_name": "LayoutModel",
      "state": {
       "_model_module_version": "1.2.0",
       "_view_module_version": "1.2.0",
       "justify_items": null,
       "object_fit": null,
       "object_position": null
      }
     },
     "98923a08dcd94de48a5e16eb715ca5eb": {
      "model_module": "@jupyter-widgets/base",
      "model_module_version": "1.2.0",
      "model_name": "LayoutModel",
      "state": {
       "_model_module_version": "1.2.0",
       "_view_module_version": "1.2.0",
       "justify_items": null,
       "object_fit": null,
       "object_position": null
      }
     },
     "9e0d40ac056645cf82defd1940a14140": {
      "model_module": "@jupyter-widgets/base",
      "model_module_version": "1.2.0",
      "model_name": "LayoutModel",
      "state": {
       "_model_module_version": "1.2.0",
       "_view_module_version": "1.2.0",
       "justify_items": null,
       "object_fit": null,
       "object_position": null
      }
     },
     "a1d2aff2583a42be8191c4110de81dfc": {
      "model_module": "@jupyter-widgets/controls",
      "model_module_version": "1.5.0",
      "model_name": "HBoxModel",
      "state": {
       "_model_module_version": "1.5.0",
       "_view_module_version": "1.5.0",
       "children": [
        "IPY_MODEL_c227e570b42642889c37428538f92404",
        "IPY_MODEL_c3618c25e35b44c3a619afb862dced84"
       ],
       "layout": "IPY_MODEL_a89e3f5913e544f29f7852e28b2395d7"
      }
     },
     "a89e3f5913e544f29f7852e28b2395d7": {
      "model_module": "@jupyter-widgets/base",
      "model_module_version": "1.2.0",
      "model_name": "LayoutModel",
      "state": {
       "_model_module_version": "1.2.0",
       "_view_module_version": "1.2.0",
       "justify_items": null,
       "object_fit": null,
       "object_position": null
      }
     },
     "b102d702ca8142238d954b893029c9a2": {
      "model_module": "@jupyter-widgets/controls",
      "model_module_version": "1.5.0",
      "model_name": "HBoxModel",
      "state": {
       "_model_module_version": "1.5.0",
       "_view_module_version": "1.5.0",
       "children": [
        "IPY_MODEL_d033f5e7a8f544d8bc76f5ca095a2175",
        "IPY_MODEL_76ed422a914747f28424a38589da6b77"
       ],
       "layout": "IPY_MODEL_30c664663f41445880dc2024cc378fbf"
      }
     },
     "b715da07270a48c193a1fa0fa3653b4e": {
      "model_module": "@jupyter-widgets/controls",
      "model_module_version": "1.5.0",
      "model_name": "ProgressStyleModel",
      "state": {
       "_model_module_version": "1.5.0",
       "_view_module_version": "1.2.0",
       "description_width": ""
      }
     },
     "b849093fa2fe449dab1cab1878cf66c3": {
      "model_module": "@jupyter-widgets/controls",
      "model_module_version": "1.5.0",
      "model_name": "IntProgressModel",
      "state": {
       "_model_module_version": "1.5.0",
       "_view_module_version": "1.5.0",
       "bar_style": "success",
       "layout": "IPY_MODEL_7c0fba336fc34997800d90ec834ca00c",
       "max": 10,
       "style": "IPY_MODEL_bdb20c69da5e4b26821b5ac981c56262",
       "value": 10
      }
     },
     "bd992c5518f94233982157363297a5b2": {
      "model_module": "@jupyter-widgets/controls",
      "model_module_version": "1.5.0",
      "model_name": "IntProgressModel",
      "state": {
       "_model_module_version": "1.5.0",
       "_view_module_version": "1.5.0",
       "bar_style": "success",
       "layout": "IPY_MODEL_975c6cacd1c3487390295f58cff43d0b",
       "max": 10,
       "style": "IPY_MODEL_6d467d9635bb4e05887a2883bc59da78",
       "value": 10
      }
     },
     "bdb20c69da5e4b26821b5ac981c56262": {
      "model_module": "@jupyter-widgets/controls",
      "model_module_version": "1.5.0",
      "model_name": "ProgressStyleModel",
      "state": {
       "_model_module_version": "1.5.0",
       "_view_module_version": "1.2.0",
       "description_width": ""
      }
     },
     "bf7015ef591f46de802a29764244a5d9": {
      "model_module": "@jupyter-widgets/controls",
      "model_module_version": "1.5.0",
      "model_name": "HTMLModel",
      "state": {
       "_model_module_version": "1.5.0",
       "_view_module_version": "1.5.0",
       "layout": "IPY_MODEL_707bdab4a0f24ac49d185367ec2c28aa",
       "style": "IPY_MODEL_e0b154cee9a140dd8e52fa27a7f02aaa",
       "value": "100% 10/10 [01:21&lt;00:00,  8.23s/it]"
      }
     },
     "c227e570b42642889c37428538f92404": {
      "model_module": "@jupyter-widgets/controls",
      "model_module_version": "1.5.0",
      "model_name": "IntProgressModel",
      "state": {
       "_model_module_version": "1.5.0",
       "_view_module_version": "1.5.0",
       "bar_style": "success",
       "layout": "IPY_MODEL_9e0d40ac056645cf82defd1940a14140",
       "max": 10,
       "style": "IPY_MODEL_5a7b564730974cda9e144c6b1157b019",
       "value": 10
      }
     },
     "c3618c25e35b44c3a619afb862dced84": {
      "model_module": "@jupyter-widgets/controls",
      "model_module_version": "1.5.0",
      "model_name": "HTMLModel",
      "state": {
       "_model_module_version": "1.5.0",
       "_view_module_version": "1.5.0",
       "layout": "IPY_MODEL_e3881689c2004db1ac587d218f9be4e9",
       "style": "IPY_MODEL_07595c9281ab49aeb31ef288614efbd3",
       "value": "100% 10/10 [06:15&lt;00:00, 36.65s/it]"
      }
     },
     "c6edaa0bcc0c4c13bd5f350e3dc3b761": {
      "model_module": "@jupyter-widgets/controls",
      "model_module_version": "1.5.0",
      "model_name": "IntProgressModel",
      "state": {
       "_model_module_version": "1.5.0",
       "_view_module_version": "1.5.0",
       "bar_style": "success",
       "layout": "IPY_MODEL_e350a45bffd44775b7b20cde9da350ea",
       "max": 10,
       "style": "IPY_MODEL_b715da07270a48c193a1fa0fa3653b4e",
       "value": 10
      }
     },
     "d033f5e7a8f544d8bc76f5ca095a2175": {
      "model_module": "@jupyter-widgets/controls",
      "model_module_version": "1.5.0",
      "model_name": "IntProgressModel",
      "state": {
       "_model_module_version": "1.5.0",
       "_view_module_version": "1.5.0",
       "bar_style": "success",
       "layout": "IPY_MODEL_33aaf8e9de6c4394bf5d49fa35ac1215",
       "max": 10,
       "style": "IPY_MODEL_38cbf1560b654eda916e015509c23d7f",
       "value": 10
      }
     },
     "d1f8d8c4a1aa41e6a818f537cbf1f5ed": {
      "model_module": "@jupyter-widgets/controls",
      "model_module_version": "1.5.0",
      "model_name": "IntProgressModel",
      "state": {
       "_model_module_version": "1.5.0",
       "_view_module_version": "1.5.0",
       "bar_style": "success",
       "layout": "IPY_MODEL_2b5dd2b68f63433fa8098b4ebf5663b8",
       "max": 10,
       "style": "IPY_MODEL_6dce05107710418dbcf69d0cad084bd5",
       "value": 10
      }
     },
     "d3ab20e75d4a4f40b22eb6db88f69c4e": {
      "model_module": "@jupyter-widgets/controls",
      "model_module_version": "1.5.0",
      "model_name": "HTMLModel",
      "state": {
       "_model_module_version": "1.5.0",
       "_view_module_version": "1.5.0",
       "layout": "IPY_MODEL_36bff8a85e2d48d3b9defd549f15048c",
       "style": "IPY_MODEL_0509d8c3e8134379a626c1b0bc030060",
       "value": "100% 10/10 [05:16&lt;00:00, 32.06s/it]"
      }
     },
     "d88894ab4e2b458aab54e69680d7cc2d": {
      "model_module": "@jupyter-widgets/controls",
      "model_module_version": "1.5.0",
      "model_name": "ProgressStyleModel",
      "state": {
       "_model_module_version": "1.5.0",
       "_view_module_version": "1.2.0",
       "description_width": ""
      }
     },
     "e0b154cee9a140dd8e52fa27a7f02aaa": {
      "model_module": "@jupyter-widgets/controls",
      "model_module_version": "1.5.0",
      "model_name": "DescriptionStyleModel",
      "state": {
       "_model_module_version": "1.5.0",
       "_view_module_version": "1.2.0",
       "description_width": ""
      }
     },
     "e166ed5afbe243bbaaf2fa6e442e5584": {
      "model_module": "@jupyter-widgets/base",
      "model_module_version": "1.2.0",
      "model_name": "LayoutModel",
      "state": {
       "_model_module_version": "1.2.0",
       "_view_module_version": "1.2.0",
       "justify_items": null,
       "object_fit": null,
       "object_position": null
      }
     },
     "e350a45bffd44775b7b20cde9da350ea": {
      "model_module": "@jupyter-widgets/base",
      "model_module_version": "1.2.0",
      "model_name": "LayoutModel",
      "state": {
       "_model_module_version": "1.2.0",
       "_view_module_version": "1.2.0",
       "justify_items": null,
       "object_fit": null,
       "object_position": null
      }
     },
     "e3881689c2004db1ac587d218f9be4e9": {
      "model_module": "@jupyter-widgets/base",
      "model_module_version": "1.2.0",
      "model_name": "LayoutModel",
      "state": {
       "_model_module_version": "1.2.0",
       "_view_module_version": "1.2.0",
       "justify_items": null,
       "object_fit": null,
       "object_position": null
      }
     },
     "f0aa55e274b04210ab2f62c4aebc3d9f": {
      "model_module": "@jupyter-widgets/base",
      "model_module_version": "1.2.0",
      "model_name": "LayoutModel",
      "state": {
       "_model_module_version": "1.2.0",
       "_view_module_version": "1.2.0",
       "justify_items": null,
       "object_fit": null,
       "object_position": null
      }
     },
     "f514794d89c1489da6e8c4939d936591": {
      "model_module": "@jupyter-widgets/controls",
      "model_module_version": "1.5.0",
      "model_name": "DescriptionStyleModel",
      "state": {
       "_model_module_version": "1.5.0",
       "_view_module_version": "1.2.0",
       "description_width": ""
      }
     }
    },
    "version_major": 2,
    "version_minor": 0
   }
  }
 },
 "nbformat": 4,
 "nbformat_minor": 2
}
